{
 "cells": [
  {
   "cell_type": "markdown",
   "metadata": {},
   "source": [
    "Use [bboxfinder](http://bboxfinder.com/) to draw boundary box around SF and Oakland."
   ]
  },
  {
   "cell_type": "markdown",
   "metadata": {},
   "source": [
    "# Get all stop stations within bounding box"
   ]
  },
  {
   "cell_type": "code",
   "execution_count": 1,
   "metadata": {
    "collapsed": true
   },
   "outputs": [],
   "source": [
    "import requests"
   ]
  },
  {
   "cell_type": "code",
   "execution_count": 2,
   "metadata": {
    "collapsed": false
   },
   "outputs": [
    {
     "name": "stdout",
     "output_type": "stream",
     "text": [
      "5669 stop_stations in bounding box\n",
      "5669 stop_stations in json response\n",
      "CPU times: user 425 ms, sys: 70.9 ms, total: 495 ms\n",
      "Wall time: 52.5 s\n"
     ]
    }
   ],
   "source": [
    "%%time\n",
    "\n",
    "mapzen_api_key = \"mapzen-ai1duha\"\n",
    "bbox = \"-122.699432,37.665070,-122.211227,37.861302\"\n",
    "response = requests.get(\"http://transit.land/api/v1/stop_stations?bbox={}&api_key={}&per_page=false&total=true\".format(bbox, mapzen_api_key))\n",
    "json_response = response.json()\n",
    "\n",
    "print json_response['meta']['total'], \"stop_stations in bounding box\"\n",
    "print len(json_response['stop_stations']), \"stop_stations in json response\""
   ]
  },
  {
   "cell_type": "markdown",
   "metadata": {},
   "source": [
    "# Classify each stop station as either \"simple stop\" or \"station\""
   ]
  },
  {
   "cell_type": "code",
   "execution_count": 3,
   "metadata": {
    "collapsed": true
   },
   "outputs": [],
   "source": [
    "def classify_stop_station_types(json_input):\n",
    "    \n",
    "    for stop_station in json_input['stop_stations']:\n",
    "        generated_or_not_generated = []\n",
    "    \n",
    "        for stop_egress in stop_station['stop_egresses']:\n",
    "            generated_or_not_generated.append(stop_egress['generated'])\n",
    "\n",
    "        for stop_platform in stop_station['stop_platforms']:\n",
    "            generated_or_not_generated.append(stop_platform['generated'])\n",
    "\n",
    "        # if a particular station has all stop egresses and stop platforms with\n",
    "        # generated = true, then it's just a simple stop. otherwise, its a station\n",
    "        \n",
    "        if all(generated_or_not_generated):\n",
    "            stop_station['stop_station_type'] = \"Simple Stop\"\n",
    "        else:\n",
    "            stop_station['stop_station_type'] = \"Station\"\n",
    "            \n",
    "    return json_input"
   ]
  },
  {
   "cell_type": "code",
   "execution_count": 4,
   "metadata": {
    "collapsed": true
   },
   "outputs": [],
   "source": [
    "data = classify_stop_station_types(json_response)"
   ]
  },
  {
   "cell_type": "markdown",
   "metadata": {},
   "source": [
    "# Get all of the stop stations for the map"
   ]
  },
  {
   "cell_type": "code",
   "execution_count": 5,
   "metadata": {
    "collapsed": true
   },
   "outputs": [],
   "source": [
    "def get_stop_stations_for_map(json_input):\n",
    "    output = []\n",
    "    for i in json_input['stop_stations']:\n",
    "        results = {}\n",
    "        results['stop_station_lon'] = i['geometry']['coordinates'][0]\n",
    "        results['stop_station_lat'] = i['geometry']['coordinates'][1]\n",
    "        results['stop_station_name'] = str(i['name']).replace('\"',\"\")\n",
    "        results['operators_serving_stop_and_platforms'] = [str(j['operator_name']) for j in i['operators_serving_stop_and_platforms']]\n",
    "        results['onestop_id'] = i['onestop_id']\n",
    "        \n",
    "        if i['stop_station_type'] == 'Station':\n",
    "            if len(i['stop_platforms']) == 0:\n",
    "                results['stop_station_type'] = 'Station w 0 Platforms'\n",
    "            elif len(i['stop_platforms']) == 1:\n",
    "                results['stop_station_type'] = 'Station w 1 Platform'\n",
    "            elif len(i['stop_platforms']) == 2:\n",
    "                results['stop_station_type'] = 'Station w 2 Platforms'\n",
    "            elif len(i['stop_platforms']) > 2:\n",
    "                results['stop_station_type'] = 'Station w >2 Platforms'            \n",
    "        else:        \n",
    "            results['stop_station_type'] = 'Simple Stop'\n",
    "\n",
    "        results['number_of_stop_platforms'] = len(i['stop_platforms'])             \n",
    "                \n",
    "        output.append(results)\n",
    "    \n",
    "    return output"
   ]
  },
  {
   "cell_type": "code",
   "execution_count": 6,
   "metadata": {
    "collapsed": false
   },
   "outputs": [],
   "source": [
    "stop_stations_for_map = get_stop_stations_for_map(data)"
   ]
  },
  {
   "cell_type": "markdown",
   "metadata": {},
   "source": [
    "# Get all of the stop platforms for the map"
   ]
  },
  {
   "cell_type": "code",
   "execution_count": 7,
   "metadata": {
    "collapsed": true
   },
   "outputs": [],
   "source": [
    "def get_stop_platforms_for_map(json_input):\n",
    "    output = []\n",
    "    for i in json_input['stop_stations']:\n",
    "        for stop_platform in i['stop_platforms']:\n",
    "            platform = {}\n",
    "            if stop_platform['generated'] == False:\n",
    "                platform['parent_station_id'] = i['onestop_id']\n",
    "                platform['parent_station_name'] = i['name']\n",
    "                platform['stop_platform_lon'] = stop_platform['geometry']['coordinates'][0]\n",
    "                platform['stop_platform_lat'] = stop_platform['geometry']['coordinates'][1]\n",
    "                platform['operators_serving_stop_and_platforms'] = i['operators_serving_stop_and_platforms']\n",
    "                platform['stop_station_type'] = \"Stop Platform\"\n",
    "                platform['onestop_id'] = stop_platform['onestop_id']\n",
    "                output.append(platform)                    \n",
    "    return output"
   ]
  },
  {
   "cell_type": "code",
   "execution_count": 8,
   "metadata": {
    "collapsed": true
   },
   "outputs": [],
   "source": [
    "stop_platforms_for_map = get_stop_platforms_for_map(data)"
   ]
  },
  {
   "cell_type": "markdown",
   "metadata": {},
   "source": [
    "# Draw lines from station stops to stop platforms"
   ]
  },
  {
   "cell_type": "code",
   "execution_count": 9,
   "metadata": {
    "collapsed": true
   },
   "outputs": [],
   "source": [
    "def get_lines_for_map(json_input):\n",
    "    lines = []\n",
    "    for stop_station in json_input['stop_stations']:\n",
    "        for stop_platform in stop_station['stop_platforms']:\n",
    "            if stop_platform['generated'] == False:\n",
    "                stop_station_lon = stop_station['geometry']['coordinates'][0]\n",
    "                stop_station_lat = stop_station['geometry']['coordinates'][1]\n",
    "                stop_platform_lon = stop_platform['geometry']['coordinates'][0]\n",
    "                stop_platform_lat = stop_platform['geometry']['coordinates'][1]\n",
    "                line = [(stop_station_lat, stop_station_lon), (stop_platform_lat, stop_platform_lon)]\n",
    "                lines.append(line)\n",
    "                \n",
    "    return lines"
   ]
  },
  {
   "cell_type": "code",
   "execution_count": 10,
   "metadata": {
    "collapsed": false
   },
   "outputs": [],
   "source": [
    "lines_for_map = get_lines_for_map(data)"
   ]
  },
  {
   "cell_type": "markdown",
   "metadata": {},
   "source": [
    "# Throw it all on a map!"
   ]
  },
  {
   "cell_type": "code",
   "execution_count": 11,
   "metadata": {
    "collapsed": true
   },
   "outputs": [],
   "source": [
    "import folium"
   ]
  },
  {
   "cell_type": "code",
   "execution_count": 12,
   "metadata": {
    "collapsed": true
   },
   "outputs": [],
   "source": [
    "def make_map(stop_stations, stop_platforms, lines, bbox, basemap = 'Mapbox', save_to_html=False):\n",
    "    \n",
    "    # Calculate center location from bbox\n",
    "    bbox_lons = [float(bbox.split(\",\")[0]), float(bbox.split(\",\")[2])]\n",
    "    bbox_lats = [float(bbox.split(\",\")[1]), float(bbox.split(\",\")[3])]\n",
    "    default_lon = sum(bbox_lons) / len(bbox_lons) # average lon\n",
    "    default_lat = sum(bbox_lats) / len(bbox_lats) # average lat\n",
    "    \n",
    "    # Choose basemap (currently either Mapbox or OSM)\n",
    "    if basemap == 'Mapbox':\n",
    "        baseurl = 'http://{s}.tiles.mapbox.com/v4/mapbox.light/{z}/{x}/{y}.png'\n",
    "        mapbox_api_key = 'pk.eyJ1Ijoid2lsbGdlYXJ5IiwiYSI6ImNpdW9wcmkxNjAxbDUydXQ0MzFwdmdvOWkifQ.9YIdQhYTOpRpocyFK-tBNA'\n",
    "        token = '?access_token={}'.format(mapbox_api_key)\n",
    "        m = folium.Map(location=[default_lat, default_lon], zoom_start=13, tiles=baseurl+token, attr='Mapbox')\n",
    "\n",
    "    elif basemap == 'OSM':\n",
    "        m = folium.Map(location=[default_lat, default_lon], zoom_start=13)\n",
    "    \n",
    "    # Define point color scheme\n",
    "    colors = {'Simple Stop': '#3186cc', \n",
    "              'Station w 0 Platforms': '#fee5d9',\n",
    "              'Station w 1 Platform': '#fc9272', \n",
    "              'Station w 2 Platforms': '#ef3b2c',\n",
    "              'Station w >2 Platforms': '#99000d', \n",
    "              'Stop Platform': '#32CD32', \n",
    "              'Line': '#000000'}\n",
    "    \n",
    "    # Make radius bigger for stations with more platforms\n",
    "    station_radius = {'Station w 0 Platforms': 3,\n",
    "                      'Station w 1 Platform': 4,\n",
    "                      'Station w 2 Platforms': 5,\n",
    "                      'Station w >2 Platforms': 6,\n",
    "                      'Simple Stop': 3}\n",
    "    # Draw lines\n",
    "    for i in lines:\n",
    "        folium.PolyLine(locations=i, color=colors['Line'], weight=2, opacity=1).add_to(m)\n",
    "        \n",
    "    # Draw stop_platforms\n",
    "    for i in stop_platforms:\n",
    "        popup_html = folium.Html('<b>Name: </b> {} <br> <b>Operators:</b> {} <br> <b>Type:</b> {} <br> <b>Onestop-id:</b> {}'.format(i['parent_station_name'].replace(\"'\",\"\"), i['operators_serving_stop_and_platforms'][0]['operator_name'], i['stop_station_type'], i['onestop_id']), script=True)\n",
    "        popup = folium.Popup(popup_html, max_width=2650)\n",
    "        folium.CircleMarker(location=[i['stop_platform_lat'], i['stop_platform_lon']], radius=4,\n",
    "                       popup=popup, color=colors[i['stop_station_type']], fill_opacity=0.8,\n",
    "                       fill_color=colors[i['stop_station_type']]).add_to(m)\n",
    "        \n",
    "    # Draw station_stops\n",
    "    for i in stop_stations:\n",
    "        popup_html = folium.Html('<b>Name: </b> {} <br> <b>Operators:</b> {} <br> <b>Type:</b> {} <br> <b>Onestop-id:</b> {}'.format(i['stop_station_name'].replace(\"'\",\"\"), ','.join(i['operators_serving_stop_and_platforms']), i['stop_station_type'], i['onestop_id']), script=True)\n",
    "        popup = folium.Popup(popup_html, max_width=2650)\n",
    "        folium.CircleMarker(location=[i['stop_station_lat'], i['stop_station_lon']], radius=station_radius[i['stop_station_type']],\n",
    "                        popup=popup, color=colors[i['stop_station_type']], fill_opacity=0.8,\n",
    "                        fill_color=colors[i['stop_station_type']]).add_to(m)\n",
    "\n",
    "    # Optional save map to html\n",
    "    if save_to_html:\n",
    "        m.save(save_to_html)\n",
    "    else:\n",
    "        return m"
   ]
  },
  {
   "cell_type": "code",
   "execution_count": 200,
   "metadata": {
    "collapsed": false
   },
   "outputs": [
    {
     "name": "stdout",
     "output_type": "stream",
     "text": [
      "CPU times: user 4min 10s, sys: 2.81 s, total: 4min 13s\n",
      "Wall time: 4min 17s\n"
     ]
    }
   ],
   "source": [
    "%%time\n",
    "make_map(stop_stations_for_map, stop_platforms_for_map, lines_for_map, bbox, save_to_html=\"../maps/map6.html\")"
   ]
  },
  {
   "cell_type": "code",
   "execution_count": 13,
   "metadata": {
    "collapsed": false
   },
   "outputs": [
    {
     "data": {
      "text/html": [
       "<iframe src=https://willgeary.github.io/transitland_station_hierarchies/maps/map6.html width=100% height=600></iframe>"
      ],
      "text/plain": [
       "<IPython.core.display.HTML object>"
      ]
     },
     "execution_count": 13,
     "metadata": {},
     "output_type": "execute_result"
    }
   ],
   "source": [
    "import IPython\n",
    "url = 'https://willgeary.github.io/transitland_station_hierarchies/maps/map6.html'\n",
    "iframe = '<iframe src=' + url + ' width=100% height=600></iframe>'\n",
    "IPython.display.HTML(iframe)"
   ]
  },
  {
   "cell_type": "markdown",
   "metadata": {},
   "source": [
    "# Make a station hierarchy network"
   ]
  },
  {
   "cell_type": "code",
   "execution_count": 14,
   "metadata": {
    "collapsed": true
   },
   "outputs": [],
   "source": [
    "import networkx as nx"
   ]
  },
  {
   "cell_type": "code",
   "execution_count": 15,
   "metadata": {
    "collapsed": false
   },
   "outputs": [
    {
     "name": "stdout",
     "output_type": "stream",
     "text": [
      "20 Stations\n",
      "88 Platforms\n",
      "5649 Simple Stops\n"
     ]
    }
   ],
   "source": [
    "stations = [i for i in data['stop_stations'] if i['stop_station_type'] == \"Station\"]\n",
    "platforms = [stop_platform for stop_station in data['stop_stations'] for stop_platform in stop_station['stop_platforms'] if stop_platform['generated'] == False]\n",
    "simple_stops = [i for i in data['stop_stations'] if i['stop_station_type'] == \"Simple Stop\"]\n",
    "\n",
    "print len(stations), \"Stations\"\n",
    "print len(platforms), \"Platforms\"\n",
    "print len(simple_stops), \"Simple Stops\""
   ]
  },
  {
   "cell_type": "code",
   "execution_count": 16,
   "metadata": {
    "collapsed": true
   },
   "outputs": [],
   "source": [
    "def get_nodes(data):\n",
    "    \n",
    "    stations = [i for i in data['stop_stations'] if i['stop_station_type'] == \"Station\"]\n",
    "    platforms = [stop_platform for stop_station in data['stop_stations'] for stop_platform in stop_station['stop_platforms'] if stop_platform['generated'] == False]\n",
    "    simple_stops = [i for i in data['stop_stations'] if i['stop_station_type'] == \"Simple Stop\"]\n",
    "    \n",
    "    nodes = []\n",
    "    \n",
    "    for station in stations:\n",
    "        nodes.append(station['onestop_id'])\n",
    "    for platform in platforms:\n",
    "        nodes.append(platform['onestop_id'])\n",
    "    for simple_stop in simple_stops:\n",
    "        nodes.append(simple_stop['onestop_id'])\n",
    "        \n",
    "    return nodes"
   ]
  },
  {
   "cell_type": "code",
   "execution_count": 17,
   "metadata": {
    "collapsed": true
   },
   "outputs": [],
   "source": [
    "def get_edges(data):\n",
    "    \n",
    "    stations = [i for i in data['stop_stations'] if i['stop_station_type'] == \"Station\"]\n",
    "  \n",
    "    edges = []\n",
    "    \n",
    "    for station in stations:\n",
    "        source = station['onestop_id']\n",
    "        for stop_platform in station['stop_platforms']:\n",
    "            target = stop_platform['onestop_id']\n",
    "            edge = (source, target)\n",
    "            edges.append(edge)\n",
    "            \n",
    "    return edges"
   ]
  },
  {
   "cell_type": "code",
   "execution_count": 18,
   "metadata": {
    "collapsed": true
   },
   "outputs": [],
   "source": [
    "def make_graph(nodes, edges):\n",
    "    g = nx.Graph()\n",
    "    \n",
    "    g.add_nodes_from(nodes)\n",
    "    g.add_edges_from(edges)\n",
    "    \n",
    "    return g"
   ]
  },
  {
   "cell_type": "code",
   "execution_count": 19,
   "metadata": {
    "collapsed": false
   },
   "outputs": [
    {
     "name": "stdout",
     "output_type": "stream",
     "text": [
      "5757 nodes\n",
      "88 edges\n"
     ]
    }
   ],
   "source": [
    "nodes = get_nodes(data)\n",
    "edges = get_edges(data)\n",
    "g = make_graph(nodes, edges)\n",
    "\n",
    "print len(g.nodes()), \"nodes\"\n",
    "print len(g.edges()), \"edges\""
   ]
  },
  {
   "cell_type": "markdown",
   "metadata": {},
   "source": [
    "# Draw network"
   ]
  },
  {
   "cell_type": "code",
   "execution_count": 20,
   "metadata": {
    "collapsed": true
   },
   "outputs": [],
   "source": [
    "import plotly.plotly as py\n",
    "from plotly.graph_objs import *"
   ]
  },
  {
   "cell_type": "code",
   "execution_count": 21,
   "metadata": {
    "collapsed": false
   },
   "outputs": [],
   "source": [
    "def draw_network(nodes, edges, layout=nx.shell_layout):\n",
    "    \n",
    "    '''\n",
    "    Possible layouts:  ['circular_layout',\n",
    "                        'random_layout',\n",
    "                        'shell_layout',\n",
    "                        'spring_layout',\n",
    "                        'spectral_layout',\n",
    "                        'fruchterman_reingold_layout']\n",
    "    '''\n",
    "\n",
    "    g=nx.Graph()\n",
    "    g.add_nodes_from(nodes)\n",
    "    g.add_edges_from(edges)\n",
    "    \n",
    "    pos=layout(g)\n",
    "\n",
    "    Xv=[pos[k][0] for k in g.nodes()]\n",
    "    Yv=[pos[k][1] for k in g.nodes()]\n",
    "    Xed=[]\n",
    "    Yed=[]\n",
    "    for edge in g.edges():\n",
    "        Xed+=[pos[edge[0]][0],pos[edge[1]][0], None]\n",
    "        Yed+=[pos[edge[0]][1],pos[edge[1]][1], None] \n",
    "\n",
    "    axis=dict(showline=False, # hide axis line, grid, ticklabels and  title\n",
    "              zeroline=False, showgrid=False, showticklabels=False, title='')\n",
    "\n",
    "    width=800\n",
    "    height=800\n",
    "    layout=Layout(title= \"Station Hierarchy Network\",  \n",
    "        font= Font(size=12),\n",
    "        showlegend=False, autosize=False, width=width, height=height, xaxis=XAxis(axis), yaxis=YAxis(axis),          \n",
    "        margin=Margin(l=40, r=40, b=85, t=100,), hovermode='closest',)\n",
    "\n",
    "    trace_edges=Scatter(x=Xed, y=Yed, mode='lines', line=Line(color='rgb(210,210,210)', width=1), hoverinfo='none')\n",
    "    trace_nodes=Scatter(x=Xv, y=Yv, mode='markers', name='net',\n",
    "                   marker=Marker(symbol='dot', size=10, color='#6959CD', line=Line(color='rgb(50,50,50)', width=0.5)),\n",
    "                   text=g.nodes(), hoverinfo='text')\n",
    "\n",
    "    graph_data=Data([trace_edges, trace_nodes])\n",
    "    figure=Figure(data=graph_data, layout=layout)\n",
    "    return py.iplot(figure, filename='Network-viz')"
   ]
  },
  {
   "cell_type": "code",
   "execution_count": 425,
   "metadata": {
    "collapsed": false
   },
   "outputs": [
    {
     "data": {
      "text/html": [
       "<iframe id=\"igraph\" scrolling=\"no\" style=\"border:none;\" seamless=\"seamless\" src=\"https://plot.ly/~willgeary/74.embed\" height=\"800px\" width=\"800px\"></iframe>"
      ],
      "text/plain": [
       "<plotly.tools.PlotlyDisplay object>"
      ]
     },
     "execution_count": 425,
     "metadata": {},
     "output_type": "execute_result"
    }
   ],
   "source": [
    "draw_network(nodes, edges, layout=nx.spring_layout)"
   ]
  },
  {
   "cell_type": "markdown",
   "metadata": {},
   "source": [
    "# Draw network on a map"
   ]
  },
  {
   "cell_type": "code",
   "execution_count": 239,
   "metadata": {
    "collapsed": true
   },
   "outputs": [],
   "source": [
    "import mplleaflet\n",
    "import mpld3\n",
    "import matplotlib.pyplot as plt\n",
    "%matplotlib inline"
   ]
  },
  {
   "cell_type": "code",
   "execution_count": 38,
   "metadata": {
    "collapsed": true
   },
   "outputs": [],
   "source": [
    "def get_locations(data):\n",
    "    \n",
    "    stations = [i for i in data['stop_stations'] if i['stop_station_type'] == \"Station\"]\n",
    "    platforms = [stop_platform for stop_station in data['stop_stations'] for stop_platform in stop_station['stop_platforms'] if stop_platform['generated'] == False]\n",
    "    simple_stops = [i for i in data['stop_stations'] if i['stop_station_type'] == \"Simple Stop\"]\n",
    "\n",
    "    locations = {}\n",
    "    \n",
    "    for station in stations:\n",
    "        onestop_id = station['onestop_id']\n",
    "        location = station['geometry']['coordinates']\n",
    "        locations[onestop_id] = location\n",
    "    \n",
    "    for platform in platforms:\n",
    "        onestop_id = platform['onestop_id']\n",
    "        location = platform['geometry']['coordinates']\n",
    "        locations[onestop_id] = location\n",
    "        \n",
    "    for simple_stop in simple_stops:\n",
    "        onestop_id = simple_stop['onestop_id']\n",
    "        location = simple_stop['geometry']['coordinates']\n",
    "        locations[onestop_id] = location\n",
    "    \n",
    "    return locations"
   ]
  },
  {
   "cell_type": "code",
   "execution_count": 39,
   "metadata": {
    "collapsed": true
   },
   "outputs": [],
   "source": [
    "def get_colors(data):\n",
    "    \n",
    "    stations = [i for i in data['stop_stations'] if i['stop_station_type'] == \"Station\"]\n",
    "    platforms = [stop_platform for stop_station in data['stop_stations'] for stop_platform in stop_station['stop_platforms'] if stop_platform['generated'] == False]\n",
    "    simple_stops = [i for i in data['stop_stations'] if i['stop_station_type'] == \"Simple Stop\"]\n",
    "    \n",
    "    colors = {}\n",
    "    \n",
    "    for station in stations:\n",
    "        onestop_id = station['onestop_id']\n",
    "        color = \"#ef3b2c\"\n",
    "        colors[onestop_id] = color\n",
    "        \n",
    "    for platform in platforms:\n",
    "        onestop_id = platform['onestop_id']\n",
    "        color = '#32CD32'\n",
    "        colors[onestop_id] = color\n",
    "        \n",
    "    for simple_stop in simple_stops:\n",
    "        onestop_id = simple_stop['onestop_id']\n",
    "        color = '#3186cc'\n",
    "        colors[onestop_id] = color\n",
    "        \n",
    "    return colors"
   ]
  },
  {
   "cell_type": "code",
   "execution_count": 40,
   "metadata": {
    "collapsed": false
   },
   "outputs": [],
   "source": [
    "locations = get_locations(data)\n",
    "colors = get_colors(data)"
   ]
  },
  {
   "cell_type": "code",
   "execution_count": 43,
   "metadata": {
    "collapsed": true
   },
   "outputs": [],
   "source": [
    "def draw_network_on_map(data, locations, colors):\n",
    "    \n",
    "    fig, ax = plt.subplots()\n",
    "\n",
    "    g = nx.Graph()\n",
    "    \n",
    "    nodes = get_nodes(data)\n",
    "    edges = get_edges(data)\n",
    "    g.add_nodes_from(nodes)\n",
    "    g.add_edges_from(edges)\n",
    "\n",
    "    nx.draw_networkx_nodes(g,pos=locations, node_size=50,node_color='red',edge_color='k',alpha=.8, with_labels=True)\n",
    "    nx.draw_networkx_edges(g,pos=locations, edge_color='black', alpha=1, width=5)\n",
    "    #nx.draw_networkx_labels(g,pos=locations, label_pos = 10.3)\n",
    "\n",
    "    values = [colors.get(node, 0.25) for node in g.nodes()]\n",
    "\n",
    "    nx.draw(g, cmap=plt.get_cmap('jet'), node_color=values, pos=locations, alpha=0.9)\n",
    "    \n",
    "    return mplleaflet.show(fig=ax.figure)"
   ]
  },
  {
   "cell_type": "code",
   "execution_count": null,
   "metadata": {
    "collapsed": false
   },
   "outputs": [],
   "source": [
    "draw_network_on_map(data, locations, colors)"
   ]
  },
  {
   "cell_type": "markdown",
   "metadata": {},
   "source": [
    "# Make distance matrix between all stations and simple stops"
   ]
  },
  {
   "cell_type": "code",
   "execution_count": 49,
   "metadata": {
    "collapsed": true
   },
   "outputs": [],
   "source": [
    "import pandas as pd\n",
    "from geopy.distance import vincenty"
   ]
  },
  {
   "cell_type": "markdown",
   "metadata": {},
   "source": [
    "Note: Can also use api to query within a certain radius: http://transit.land//api/v1/stop_stations?lon=-121.977772198&lat=37.413530093&r=100"
   ]
  },
  {
   "cell_type": "code",
   "execution_count": 87,
   "metadata": {
    "collapsed": false
   },
   "outputs": [],
   "source": [
    "def make_distance_matrix(data):\n",
    "    \n",
    "    stations = [i for i in data['stop_stations'] if i['stop_station_type'] == \"Station\"]\n",
    "    platforms = [stop_platform for stop_station in data['stop_stations'] for stop_platform in stop_station['stop_platforms'] if stop_platform['generated'] == False]\n",
    "    simple_stops = [i for i in data['stop_stations'] if i['stop_station_type'] == \"Simple Stop\"]\n",
    "        \n",
    "    # Initialize empty dataframe to store results\n",
    "    station_ids = [station['onestop_id'] for station in stations]\n",
    "    simple_stop_ids = [simple_stop['onestop_id'] for simple_stop in simple_stops]\n",
    "    distance_matrix = pd.DataFrame(index=station_ids, columns=simple_stop_ids)\n",
    "    \n",
    "    # Get locations for stations and simple stops\n",
    "    coords = {}\n",
    "    for station in stations:\n",
    "        coords[station['onestop_id']] = station['geometry']['coordinates']\n",
    "    for simple_stop in simple_stops:\n",
    "        coords[simple_stop['onestop_id']] = simple_stop['geometry']['coordinates']\n",
    "    \n",
    "    # Calculate distance in meters between each station and simple stop pair\n",
    "    for station_id in station_ids:\n",
    "        station_lat = coords[station_id][1]\n",
    "        station_lon = coords[station_id][0]\n",
    "        station_location = (station_lat, station_lon)\n",
    "        \n",
    "        for simple_stop_id in simple_stop_ids:\n",
    "            simple_stop_lat = coords[simple_stop_id][1]\n",
    "            simple_stop_lon = coords[simple_stop_id][0]\n",
    "            simple_stop_location = (simple_stop_lat, simple_stop_lon)\n",
    "            \n",
    "            # Calculate distance in meters and store it in matrix\n",
    "            distance = vincenty(station_location, simple_stop_location).meters\n",
    "            distance_matrix.ix[station_id][simple_stop_id] = distance\n",
    "            \n",
    "    return distance_matrix"
   ]
  },
  {
   "cell_type": "code",
   "execution_count": 88,
   "metadata": {
    "collapsed": false
   },
   "outputs": [
    {
     "name": "stdout",
     "output_type": "stream",
     "text": [
      "CPU times: user 35.3 s, sys: 794 ms, total: 36.1 s\n",
      "Wall time: 38.1 s\n"
     ]
    }
   ],
   "source": [
    "%%time\n",
    "\n",
    "distance_matrix = make_distance_matrix(data)"
   ]
  },
  {
   "cell_type": "code",
   "execution_count": 89,
   "metadata": {
    "collapsed": false
   },
   "outputs": [
    {
     "data": {
      "text/html": [
       "<div>\n",
       "<table border=\"1\" class=\"dataframe\">\n",
       "  <thead>\n",
       "    <tr style=\"text-align: right;\">\n",
       "      <th></th>\n",
       "      <th>s-9q9p616uyb-rockridge</th>\n",
       "      <th>s-9q9p1wrwrp-macarthur</th>\n",
       "      <th>s-9q9p1dwqv1-19thstoakland</th>\n",
       "      <th>s-9q9p19uw31-12thstoaklandcitycenter</th>\n",
       "      <th>s-9q9p145u1w-westoakland</th>\n",
       "      <th>s-9q8znb12j1-embarcadero</th>\n",
       "      <th>s-9q8yyxq427-montgomeryst</th>\n",
       "      <th>s-9q8yywd198-powellst</th>\n",
       "      <th>s-9q8yymt18w-civiccenter~unplaza</th>\n",
       "      <th>s-9q8yy6btqm-16thstmission</th>\n",
       "      <th>...</th>\n",
       "      <th>s-9q9p1wxf72-macarthur</th>\n",
       "      <th>s-9q8yyk3eds-missionst~southvannessave</th>\n",
       "      <th>s-9q8yycs1g5-22ndst~pennsylvaniaave</th>\n",
       "      <th>s-9q8yyct493-22ndst~iowast</th>\n",
       "      <th>s-9q8yycw746-22ndst~minnesotast</th>\n",
       "      <th>s-9q8yycxser-3rdst~22ndst</th>\n",
       "      <th>s-9q8yyct4bq-22ndst~iowast</th>\n",
       "      <th>s-9q8yych5sp-pennsylvaniaavenue~23rdstreet</th>\n",
       "      <th>s-9q8yybskfp-pennsylvaniaavenue~25thstreet</th>\n",
       "      <th>s-9q9ngh8rrh-highst~foothillblvd</th>\n",
       "    </tr>\n",
       "  </thead>\n",
       "  <tbody>\n",
       "    <tr>\n",
       "      <th>s-9q9p1dh9te-14thst~broadway</th>\n",
       "      <td>4825.81</td>\n",
       "      <td>2782.97</td>\n",
       "      <td>519.505</td>\n",
       "      <td>51.6462</td>\n",
       "      <td>2091.34</td>\n",
       "      <td>11134.7</td>\n",
       "      <td>11537.7</td>\n",
       "      <td>12226.9</td>\n",
       "      <td>12861.3</td>\n",
       "      <td>13767</td>\n",
       "      <td>...</td>\n",
       "      <td>2782.97</td>\n",
       "      <td>13411.2</td>\n",
       "      <td>11901.4</td>\n",
       "      <td>11793.4</td>\n",
       "      <td>11649.8</td>\n",
       "      <td>11496.8</td>\n",
       "      <td>11793.1</td>\n",
       "      <td>12017.7</td>\n",
       "      <td>12128.5</td>\n",
       "      <td>6211.37</td>\n",
       "    </tr>\n",
       "    <tr>\n",
       "      <th>s-9q9p19eumv-11thst~broadway</th>\n",
       "      <td>5092.35</td>\n",
       "      <td>3044.52</td>\n",
       "      <td>784.13</td>\n",
       "      <td>217.288</td>\n",
       "      <td>2026.11</td>\n",
       "      <td>11019.8</td>\n",
       "      <td>11415.6</td>\n",
       "      <td>12095.8</td>\n",
       "      <td>12722.6</td>\n",
       "      <td>13604.3</td>\n",
       "      <td>...</td>\n",
       "      <td>3044.52</td>\n",
       "      <td>13261.5</td>\n",
       "      <td>11712.9</td>\n",
       "      <td>11604.3</td>\n",
       "      <td>11459.7</td>\n",
       "      <td>11306.1</td>\n",
       "      <td>11604.2</td>\n",
       "      <td>11825.4</td>\n",
       "      <td>11932.2</td>\n",
       "      <td>6162.5</td>\n",
       "    </tr>\n",
       "    <tr>\n",
       "      <th>s-9q9p19u1u7-12thst~broadway</th>\n",
       "      <td>4987.23</td>\n",
       "      <td>2938.52</td>\n",
       "      <td>680.746</td>\n",
       "      <td>114.335</td>\n",
       "      <td>2035.96</td>\n",
       "      <td>11053.4</td>\n",
       "      <td>11452.3</td>\n",
       "      <td>12136.3</td>\n",
       "      <td>12766.4</td>\n",
       "      <td>13658.4</td>\n",
       "      <td>...</td>\n",
       "      <td>2938.52</td>\n",
       "      <td>13310.1</td>\n",
       "      <td>11778.3</td>\n",
       "      <td>11670</td>\n",
       "      <td>11525.9</td>\n",
       "      <td>11372.5</td>\n",
       "      <td>11669.8</td>\n",
       "      <td>11892.5</td>\n",
       "      <td>12001.2</td>\n",
       "      <td>6192.73</td>\n",
       "    </tr>\n",
       "    <tr>\n",
       "      <th>s-9q9p4ckf4b-fruitvaleave~macarthurblvd</th>\n",
       "      <td>5828.7</td>\n",
       "      <td>5501.9</td>\n",
       "      <td>4697.98</td>\n",
       "      <td>4876.92</td>\n",
       "      <td>6966.41</td>\n",
       "      <td>15941.2</td>\n",
       "      <td>16321.2</td>\n",
       "      <td>16976.1</td>\n",
       "      <td>17575.6</td>\n",
       "      <td>18340</td>\n",
       "      <td>...</td>\n",
       "      <td>5501.9</td>\n",
       "      <td>18067.3</td>\n",
       "      <td>16276.6</td>\n",
       "      <td>16164</td>\n",
       "      <td>16012.8</td>\n",
       "      <td>15855.2</td>\n",
       "      <td>16165</td>\n",
       "      <td>16353.4</td>\n",
       "      <td>16420.9</td>\n",
       "      <td>2828.4</td>\n",
       "    </tr>\n",
       "    <tr>\n",
       "      <th>s-9q9p4tc63j-highlandave~highlandway</th>\n",
       "      <td>2768.73</td>\n",
       "      <td>3107.09</td>\n",
       "      <td>3703.79</td>\n",
       "      <td>4186.58</td>\n",
       "      <td>5980.15</td>\n",
       "      <td>14951.1</td>\n",
       "      <td>15391.9</td>\n",
       "      <td>16125.2</td>\n",
       "      <td>16796.1</td>\n",
       "      <td>17808.2</td>\n",
       "      <td>...</td>\n",
       "      <td>3107.09</td>\n",
       "      <td>17397.2</td>\n",
       "      <td>16026.7</td>\n",
       "      <td>15920.1</td>\n",
       "      <td>15778.6</td>\n",
       "      <td>15627.1</td>\n",
       "      <td>15919.5</td>\n",
       "      <td>16150.9</td>\n",
       "      <td>16268.8</td>\n",
       "      <td>5841.73</td>\n",
       "    </tr>\n",
       "  </tbody>\n",
       "</table>\n",
       "<p>5 rows × 5649 columns</p>\n",
       "</div>"
      ],
      "text/plain": [
       "                                        s-9q9p616uyb-rockridge  \\\n",
       "s-9q9p1dh9te-14thst~broadway                           4825.81   \n",
       "s-9q9p19eumv-11thst~broadway                           5092.35   \n",
       "s-9q9p19u1u7-12thst~broadway                           4987.23   \n",
       "s-9q9p4ckf4b-fruitvaleave~macarthurblvd                 5828.7   \n",
       "s-9q9p4tc63j-highlandave~highlandway                   2768.73   \n",
       "\n",
       "                                        s-9q9p1wrwrp-macarthur  \\\n",
       "s-9q9p1dh9te-14thst~broadway                           2782.97   \n",
       "s-9q9p19eumv-11thst~broadway                           3044.52   \n",
       "s-9q9p19u1u7-12thst~broadway                           2938.52   \n",
       "s-9q9p4ckf4b-fruitvaleave~macarthurblvd                 5501.9   \n",
       "s-9q9p4tc63j-highlandave~highlandway                   3107.09   \n",
       "\n",
       "                                        s-9q9p1dwqv1-19thstoakland  \\\n",
       "s-9q9p1dh9te-14thst~broadway                               519.505   \n",
       "s-9q9p19eumv-11thst~broadway                                784.13   \n",
       "s-9q9p19u1u7-12thst~broadway                               680.746   \n",
       "s-9q9p4ckf4b-fruitvaleave~macarthurblvd                    4697.98   \n",
       "s-9q9p4tc63j-highlandave~highlandway                       3703.79   \n",
       "\n",
       "                                        s-9q9p19uw31-12thstoaklandcitycenter  \\\n",
       "s-9q9p1dh9te-14thst~broadway                                         51.6462   \n",
       "s-9q9p19eumv-11thst~broadway                                         217.288   \n",
       "s-9q9p19u1u7-12thst~broadway                                         114.335   \n",
       "s-9q9p4ckf4b-fruitvaleave~macarthurblvd                              4876.92   \n",
       "s-9q9p4tc63j-highlandave~highlandway                                 4186.58   \n",
       "\n",
       "                                        s-9q9p145u1w-westoakland  \\\n",
       "s-9q9p1dh9te-14thst~broadway                             2091.34   \n",
       "s-9q9p19eumv-11thst~broadway                             2026.11   \n",
       "s-9q9p19u1u7-12thst~broadway                             2035.96   \n",
       "s-9q9p4ckf4b-fruitvaleave~macarthurblvd                  6966.41   \n",
       "s-9q9p4tc63j-highlandave~highlandway                     5980.15   \n",
       "\n",
       "                                        s-9q8znb12j1-embarcadero  \\\n",
       "s-9q9p1dh9te-14thst~broadway                             11134.7   \n",
       "s-9q9p19eumv-11thst~broadway                             11019.8   \n",
       "s-9q9p19u1u7-12thst~broadway                             11053.4   \n",
       "s-9q9p4ckf4b-fruitvaleave~macarthurblvd                  15941.2   \n",
       "s-9q9p4tc63j-highlandave~highlandway                     14951.1   \n",
       "\n",
       "                                        s-9q8yyxq427-montgomeryst  \\\n",
       "s-9q9p1dh9te-14thst~broadway                              11537.7   \n",
       "s-9q9p19eumv-11thst~broadway                              11415.6   \n",
       "s-9q9p19u1u7-12thst~broadway                              11452.3   \n",
       "s-9q9p4ckf4b-fruitvaleave~macarthurblvd                   16321.2   \n",
       "s-9q9p4tc63j-highlandave~highlandway                      15391.9   \n",
       "\n",
       "                                        s-9q8yywd198-powellst  \\\n",
       "s-9q9p1dh9te-14thst~broadway                          12226.9   \n",
       "s-9q9p19eumv-11thst~broadway                          12095.8   \n",
       "s-9q9p19u1u7-12thst~broadway                          12136.3   \n",
       "s-9q9p4ckf4b-fruitvaleave~macarthurblvd               16976.1   \n",
       "s-9q9p4tc63j-highlandave~highlandway                  16125.2   \n",
       "\n",
       "                                        s-9q8yymt18w-civiccenter~unplaza  \\\n",
       "s-9q9p1dh9te-14thst~broadway                                     12861.3   \n",
       "s-9q9p19eumv-11thst~broadway                                     12722.6   \n",
       "s-9q9p19u1u7-12thst~broadway                                     12766.4   \n",
       "s-9q9p4ckf4b-fruitvaleave~macarthurblvd                          17575.6   \n",
       "s-9q9p4tc63j-highlandave~highlandway                             16796.1   \n",
       "\n",
       "                                        s-9q8yy6btqm-16thstmission  \\\n",
       "s-9q9p1dh9te-14thst~broadway                                 13767   \n",
       "s-9q9p19eumv-11thst~broadway                               13604.3   \n",
       "s-9q9p19u1u7-12thst~broadway                               13658.4   \n",
       "s-9q9p4ckf4b-fruitvaleave~macarthurblvd                      18340   \n",
       "s-9q9p4tc63j-highlandave~highlandway                       17808.2   \n",
       "\n",
       "                                                      ...                 \\\n",
       "s-9q9p1dh9te-14thst~broadway                          ...                  \n",
       "s-9q9p19eumv-11thst~broadway                          ...                  \n",
       "s-9q9p19u1u7-12thst~broadway                          ...                  \n",
       "s-9q9p4ckf4b-fruitvaleave~macarthurblvd               ...                  \n",
       "s-9q9p4tc63j-highlandave~highlandway                  ...                  \n",
       "\n",
       "                                        s-9q9p1wxf72-macarthur  \\\n",
       "s-9q9p1dh9te-14thst~broadway                           2782.97   \n",
       "s-9q9p19eumv-11thst~broadway                           3044.52   \n",
       "s-9q9p19u1u7-12thst~broadway                           2938.52   \n",
       "s-9q9p4ckf4b-fruitvaleave~macarthurblvd                 5501.9   \n",
       "s-9q9p4tc63j-highlandave~highlandway                   3107.09   \n",
       "\n",
       "                                        s-9q8yyk3eds-missionst~southvannessave  \\\n",
       "s-9q9p1dh9te-14thst~broadway                                           13411.2   \n",
       "s-9q9p19eumv-11thst~broadway                                           13261.5   \n",
       "s-9q9p19u1u7-12thst~broadway                                           13310.1   \n",
       "s-9q9p4ckf4b-fruitvaleave~macarthurblvd                                18067.3   \n",
       "s-9q9p4tc63j-highlandave~highlandway                                   17397.2   \n",
       "\n",
       "                                        s-9q8yycs1g5-22ndst~pennsylvaniaave  \\\n",
       "s-9q9p1dh9te-14thst~broadway                                        11901.4   \n",
       "s-9q9p19eumv-11thst~broadway                                        11712.9   \n",
       "s-9q9p19u1u7-12thst~broadway                                        11778.3   \n",
       "s-9q9p4ckf4b-fruitvaleave~macarthurblvd                             16276.6   \n",
       "s-9q9p4tc63j-highlandave~highlandway                                16026.7   \n",
       "\n",
       "                                        s-9q8yyct493-22ndst~iowast  \\\n",
       "s-9q9p1dh9te-14thst~broadway                               11793.4   \n",
       "s-9q9p19eumv-11thst~broadway                               11604.3   \n",
       "s-9q9p19u1u7-12thst~broadway                                 11670   \n",
       "s-9q9p4ckf4b-fruitvaleave~macarthurblvd                      16164   \n",
       "s-9q9p4tc63j-highlandave~highlandway                       15920.1   \n",
       "\n",
       "                                        s-9q8yycw746-22ndst~minnesotast  \\\n",
       "s-9q9p1dh9te-14thst~broadway                                    11649.8   \n",
       "s-9q9p19eumv-11thst~broadway                                    11459.7   \n",
       "s-9q9p19u1u7-12thst~broadway                                    11525.9   \n",
       "s-9q9p4ckf4b-fruitvaleave~macarthurblvd                         16012.8   \n",
       "s-9q9p4tc63j-highlandave~highlandway                            15778.6   \n",
       "\n",
       "                                        s-9q8yycxser-3rdst~22ndst  \\\n",
       "s-9q9p1dh9te-14thst~broadway                              11496.8   \n",
       "s-9q9p19eumv-11thst~broadway                              11306.1   \n",
       "s-9q9p19u1u7-12thst~broadway                              11372.5   \n",
       "s-9q9p4ckf4b-fruitvaleave~macarthurblvd                   15855.2   \n",
       "s-9q9p4tc63j-highlandave~highlandway                      15627.1   \n",
       "\n",
       "                                        s-9q8yyct4bq-22ndst~iowast  \\\n",
       "s-9q9p1dh9te-14thst~broadway                               11793.1   \n",
       "s-9q9p19eumv-11thst~broadway                               11604.2   \n",
       "s-9q9p19u1u7-12thst~broadway                               11669.8   \n",
       "s-9q9p4ckf4b-fruitvaleave~macarthurblvd                      16165   \n",
       "s-9q9p4tc63j-highlandave~highlandway                       15919.5   \n",
       "\n",
       "                                        s-9q8yych5sp-pennsylvaniaavenue~23rdstreet  \\\n",
       "s-9q9p1dh9te-14thst~broadway                                               12017.7   \n",
       "s-9q9p19eumv-11thst~broadway                                               11825.4   \n",
       "s-9q9p19u1u7-12thst~broadway                                               11892.5   \n",
       "s-9q9p4ckf4b-fruitvaleave~macarthurblvd                                    16353.4   \n",
       "s-9q9p4tc63j-highlandave~highlandway                                       16150.9   \n",
       "\n",
       "                                        s-9q8yybskfp-pennsylvaniaavenue~25thstreet  \\\n",
       "s-9q9p1dh9te-14thst~broadway                                               12128.5   \n",
       "s-9q9p19eumv-11thst~broadway                                               11932.2   \n",
       "s-9q9p19u1u7-12thst~broadway                                               12001.2   \n",
       "s-9q9p4ckf4b-fruitvaleave~macarthurblvd                                    16420.9   \n",
       "s-9q9p4tc63j-highlandave~highlandway                                       16268.8   \n",
       "\n",
       "                                        s-9q9ngh8rrh-highst~foothillblvd  \n",
       "s-9q9p1dh9te-14thst~broadway                                     6211.37  \n",
       "s-9q9p19eumv-11thst~broadway                                      6162.5  \n",
       "s-9q9p19u1u7-12thst~broadway                                     6192.73  \n",
       "s-9q9p4ckf4b-fruitvaleave~macarthurblvd                           2828.4  \n",
       "s-9q9p4tc63j-highlandave~highlandway                             5841.73  \n",
       "\n",
       "[5 rows x 5649 columns]"
      ]
     },
     "execution_count": 89,
     "metadata": {},
     "output_type": "execute_result"
    }
   ],
   "source": [
    "distance_matrix.head()"
   ]
  },
  {
   "cell_type": "markdown",
   "metadata": {},
   "source": [
    "# Get all simple stops within 200 meters of a particular station"
   ]
  },
  {
   "cell_type": "code",
   "execution_count": 166,
   "metadata": {
    "collapsed": true
   },
   "outputs": [],
   "source": [
    "import numpy as np"
   ]
  },
  {
   "cell_type": "code",
   "execution_count": 223,
   "metadata": {
    "collapsed": false
   },
   "outputs": [],
   "source": [
    "def get_nearby_stop_ids(station_id, distance_matrix, radius = 200):\n",
    "    '''Returns a list of all the onestop-ids within radius of station'''\n",
    "    \n",
    "    d = distance_matrix.ix[station_id]\n",
    "    stop_ids = [d.index[i].values for i in np.where(d < radius)][0]\n",
    "    \n",
    "    return stop_ids.tolist()"
   ]
  },
  {
   "cell_type": "code",
   "execution_count": 224,
   "metadata": {
    "collapsed": true
   },
   "outputs": [],
   "source": [
    "def get_nearby_stops(station_id, distance_matrix, data, radius = 200):\n",
    "    '''Returns a list of all the entire records with radius of station'''\n",
    "    \n",
    "    stop_ids = get_nearby_stop_ids(station_id, distance_matrix, radius=radius)\n",
    "    \n",
    "    stop_records = []\n",
    "    for stop_id in stop_ids:\n",
    "        stop_record = filter(lambda i: i['onestop_id'] == stop_id, data['stop_stations'])\n",
    "        stop_records.append(stop_record)\n",
    "        \n",
    "    return stop_records"
   ]
  },
  {
   "cell_type": "markdown",
   "metadata": {},
   "source": [
    "# Example: 14th St and Broadway AC Transit Station"
   ]
  },
  {
   "cell_type": "markdown",
   "metadata": {},
   "source": [
    "Here are the four simple stop ids within 200 meters of the 14th St and Broadway AC Transit station:"
   ]
  },
  {
   "cell_type": "code",
   "execution_count": 253,
   "metadata": {
    "collapsed": false
   },
   "outputs": [
    {
     "data": {
      "text/plain": [
       "[u's-9q9p19uw31-12thstoaklandcitycenter',\n",
       " u's-9q9p1d5q87-14thst~clayst',\n",
       " u's-9q9p19vx61-14thst~franklinst',\n",
       " u's-9q9p19vzs8-14thst~franklinst']"
      ]
     },
     "execution_count": 253,
     "metadata": {},
     "output_type": "execute_result"
    }
   ],
   "source": [
    "get_nearby_stop_ids('s-9q9p1dh9te-14thst~broadway', distance_matrix, radius=200)"
   ]
  },
  {
   "cell_type": "code",
   "execution_count": null,
   "metadata": {
    "collapsed": true
   },
   "outputs": [],
   "source": [
    "filter(lambda i: i['onestop_id'] == \"s-9q9p1dh9te-14thst~broadway\", data['stop_stations'])"
   ]
  },
  {
   "cell_type": "code",
   "execution_count": 226,
   "metadata": {
    "collapsed": false
   },
   "outputs": [
    {
     "data": {
      "image/png": "[encoded data removed]",
      "text/plain": [
       "<IPython.core.display.Image object>"
      ]
     },
     "execution_count": 226,
     "metadata": {},
     "output_type": "execute_result"
    }
   ],
   "source": [
    "from IPython.display import Image\n",
    "Image(\"../images/quadrant.png\")"
   ]
  },
  {
   "cell_type": "markdown",
   "metadata": {},
   "source": [
    "Variables to consider in algorithm:\n",
    "\n",
    "- Name 1 vs Name 2\n",
    "- Cross street 1 (if relevant)\n",
    "- Cross street 2 (if relevant)\n",
    "- Operator1 != Operator2\n",
    "- Distance between 1 and 2\n",
    "- Address 1 vs Address 2\n",
    "- Coordinates 1 vs Coordinates 2\n",
    "- Building footprints\n",
    "- Building heights\n",
    "- Served by vehicle type [bus, metro, tram, etc]\n",
    "- Bigger radius by vehicle type\n",
    "- Draw radius around any stop served by metro, tram or rail or is existing station\n",
    "- Will and ian to label training data set next week\n",
    "- Include vehicle type in popup\n",
    "- Initial similarity matrix (distance *0.5 + name * 0.5)\n",
    "- Use who's on first\n",
    "- Stop_transfers\n",
    "\n",
    "Some questions...\n",
    "\n",
    "- Is it safe to assume that if the operator of the station is equal to the operator of the simple stop, then the simple stop should not be considered a stop platform (since it would already be categorized as such if its the same operator)\n",
    "\n",
    "- In other words... should a stop get more similarity points if the operator is different than the station?"
   ]
  },
  {
   "cell_type": "markdown",
   "metadata": {},
   "source": [
    "# Parse stop record for useful information"
   ]
  },
  {
   "cell_type": "code",
   "execution_count": 231,
   "metadata": {
    "collapsed": true
   },
   "outputs": [],
   "source": [
    "from fuzzywuzzy import fuzz"
   ]
  },
  {
   "cell_type": "markdown",
   "metadata": {},
   "source": [
    "Example string similarity score:"
   ]
  },
  {
   "cell_type": "code",
   "execution_count": 252,
   "metadata": {
    "collapsed": false
   },
   "outputs": [
    {
     "data": {
      "text/plain": [
       "0.51"
      ]
     },
     "execution_count": 252,
     "metadata": {},
     "output_type": "execute_result"
    }
   ],
   "source": [
    "string1 = \"14TH ST. & BROADWAY\"\n",
    "string2 = \"12th St. Oakland City Center\"\n",
    "fuzz.token_sort_ratio(string1, string2)/100.0"
   ]
  },
  {
   "cell_type": "markdown",
   "metadata": {},
   "source": [
    "# Make Similarity Matrix"
   ]
  },
  {
   "cell_type": "code",
   "execution_count": 372,
   "metadata": {
    "collapsed": true
   },
   "outputs": [],
   "source": [
    "def make_similarity_matrix(data, distance_matrix):\n",
    "    \n",
    "    stations = [i for i in data['stop_stations'] if i['stop_station_type'] == \"Station\"]\n",
    "    platforms = [stop_platform for stop_station in data['stop_stations'] for stop_platform in stop_station['stop_platforms'] if stop_platform['generated'] == False]\n",
    "    simple_stops = [i for i in data['stop_stations'] if i['stop_station_type'] == \"Simple Stop\"]\n",
    "    \n",
    "    # Initialize empty dataframe to store results\n",
    "    station_ids = [station['onestop_id'] for station in stations]\n",
    "    simple_stop_ids = [simple_stop['onestop_id'] for simple_stop in simple_stops]\n",
    "    similarity_matrix = pd.DataFrame(index=station_ids, columns=simple_stop_ids)\n",
    "    \n",
    "    # Names dict with onestop_id keys\n",
    "    names = {}\n",
    "    for station in stations:\n",
    "        names[station['onestop_id']] = station['name']\n",
    "    for simple_stop in simple_stops:\n",
    "        names[simple_stop['onestop_id']] = simple_stop['name']\n",
    "    \n",
    "    # Get distance and name similarity between each station and simple stop pair\n",
    "    for station_id in station_ids:\n",
    "        station_name = names[station_id]\n",
    "        for simple_stop_id in simple_stop_ids:\n",
    "            simple_stop_name = names[simple_stop_id]\n",
    "            name_similarity = fuzz.token_sort_ratio(station_name, simple_stop_name)/100.0\n",
    "            \n",
    "            distance = distance_matrix.ix[station_id][simple_stop_id]\n",
    "            inverse_log_distance = 1 / np.log(distance)\n",
    "            \n",
    "            similarity_score = (name_similarity * 0.1) + (inverse_log_distance * 0.9)\n",
    "            similarity_matrix.ix[station_id][simple_stop_id] = similarity_score\n",
    "            \n",
    "    return similarity_matrix"
   ]
  },
  {
   "cell_type": "code",
   "execution_count": 373,
   "metadata": {
    "collapsed": false
   },
   "outputs": [
    {
     "name": "stdout",
     "output_type": "stream",
     "text": [
      "CPU times: user 49.2 s, sys: 858 ms, total: 50.1 s\n",
      "Wall time: 50.3 s\n"
     ]
    }
   ],
   "source": [
    "%%time\n",
    "\n",
    "similarity_matrix = make_similarity_matrix(data, distance_matrix)"
   ]
  },
  {
   "cell_type": "code",
   "execution_count": 428,
   "metadata": {
    "collapsed": false
   },
   "outputs": [
    {
     "data": {
      "text/html": [
       "<div>\n",
       "<table border=\"1\" class=\"dataframe\">\n",
       "  <thead>\n",
       "    <tr style=\"text-align: right;\">\n",
       "      <th></th>\n",
       "      <th>s-9q9p616uyb-rockridge</th>\n",
       "      <th>s-9q9p1wrwrp-macarthur</th>\n",
       "      <th>s-9q9p1dwqv1-19thstoakland</th>\n",
       "      <th>s-9q9p19uw31-12thstoaklandcitycenter</th>\n",
       "      <th>s-9q9p145u1w-westoakland</th>\n",
       "      <th>s-9q8znb12j1-embarcadero</th>\n",
       "      <th>s-9q8yyxq427-montgomeryst</th>\n",
       "      <th>s-9q8yywd198-powellst</th>\n",
       "      <th>s-9q8yymt18w-civiccenter~unplaza</th>\n",
       "      <th>s-9q8yy6btqm-16thstmission</th>\n",
       "      <th>...</th>\n",
       "      <th>s-9q9p1wxf72-macarthur</th>\n",
       "      <th>s-9q8yyk3eds-missionst~southvannessave</th>\n",
       "      <th>s-9q8yycs1g5-22ndst~pennsylvaniaave</th>\n",
       "      <th>s-9q8yyct493-22ndst~iowast</th>\n",
       "      <th>s-9q8yycw746-22ndst~minnesotast</th>\n",
       "      <th>s-9q8yycxser-3rdst~22ndst</th>\n",
       "      <th>s-9q8yyct4bq-22ndst~iowast</th>\n",
       "      <th>s-9q8yych5sp-pennsylvaniaavenue~23rdstreet</th>\n",
       "      <th>s-9q8yybskfp-pennsylvaniaavenue~25thstreet</th>\n",
       "      <th>s-9q9ngh8rrh-highst~foothillblvd</th>\n",
       "    </tr>\n",
       "  </thead>\n",
       "  <tbody>\n",
       "    <tr>\n",
       "      <th>s-9q9p1dh9te-14thst~broadway</th>\n",
       "      <td>0.13011</td>\n",
       "      <td>0.137475</td>\n",
       "      <td>0.208934</td>\n",
       "      <td>0.279171</td>\n",
       "      <td>0.160715</td>\n",
       "      <td>0.126589</td>\n",
       "      <td>0.137222</td>\n",
       "      <td>0.135629</td>\n",
       "      <td>0.122118</td>\n",
       "      <td>0.146438</td>\n",
       "      <td>...</td>\n",
       "      <td>0.137475</td>\n",
       "      <td>0.116698</td>\n",
       "      <td>0.125904</td>\n",
       "      <td>0.140997</td>\n",
       "      <td>0.129123</td>\n",
       "      <td>0.136259</td>\n",
       "      <td>0.140997</td>\n",
       "      <td>0.125804</td>\n",
       "      <td>0.129711</td>\n",
       "      <td>0.135044</td>\n",
       "    </tr>\n",
       "    <tr>\n",
       "      <th>s-9q9p19eumv-11thst~broadway</th>\n",
       "      <td>0.129442</td>\n",
       "      <td>0.136204</td>\n",
       "      <td>0.200042</td>\n",
       "      <td>0.218248</td>\n",
       "      <td>0.161205</td>\n",
       "      <td>0.126697</td>\n",
       "      <td>0.137332</td>\n",
       "      <td>0.135738</td>\n",
       "      <td>0.122227</td>\n",
       "      <td>0.146556</td>\n",
       "      <td>...</td>\n",
       "      <td>0.136204</td>\n",
       "      <td>0.11681</td>\n",
       "      <td>0.126067</td>\n",
       "      <td>0.141163</td>\n",
       "      <td>0.129292</td>\n",
       "      <td>0.136431</td>\n",
       "      <td>0.141163</td>\n",
       "      <td>0.125969</td>\n",
       "      <td>0.129877</td>\n",
       "      <td>0.135137</td>\n",
       "    </tr>\n",
       "    <tr>\n",
       "      <th>s-9q9p19u1u7-12thst~broadway</th>\n",
       "      <td>0.1297</td>\n",
       "      <td>0.136702</td>\n",
       "      <td>0.202969</td>\n",
       "      <td>0.245908</td>\n",
       "      <td>0.16113</td>\n",
       "      <td>0.126665</td>\n",
       "      <td>0.137298</td>\n",
       "      <td>0.135704</td>\n",
       "      <td>0.122192</td>\n",
       "      <td>0.146517</td>\n",
       "      <td>...</td>\n",
       "      <td>0.136702</td>\n",
       "      <td>0.116774</td>\n",
       "      <td>0.13101</td>\n",
       "      <td>0.148105</td>\n",
       "      <td>0.135233</td>\n",
       "      <td>0.143371</td>\n",
       "      <td>0.148105</td>\n",
       "      <td>0.129911</td>\n",
       "      <td>0.133818</td>\n",
       "      <td>0.135079</td>\n",
       "    </tr>\n",
       "    <tr>\n",
       "      <th>s-9q9p4ckf4b-fruitvaleave~macarthurblvd</th>\n",
       "      <td>0.1198</td>\n",
       "      <td>0.153495</td>\n",
       "      <td>0.129447</td>\n",
       "      <td>0.134979</td>\n",
       "      <td>0.131708</td>\n",
       "      <td>0.124007</td>\n",
       "      <td>0.112781</td>\n",
       "      <td>0.119407</td>\n",
       "      <td>0.125079</td>\n",
       "      <td>0.110679</td>\n",
       "      <td>...</td>\n",
       "      <td>0.153495</td>\n",
       "      <td>0.123819</td>\n",
       "      <td>0.130808</td>\n",
       "      <td>0.120874</td>\n",
       "      <td>0.121964</td>\n",
       "      <td>0.122059</td>\n",
       "      <td>0.120873</td>\n",
       "      <td>0.129763</td>\n",
       "      <td>0.129723</td>\n",
       "      <td>0.154244</td>\n",
       "    </tr>\n",
       "    <tr>\n",
       "      <th>s-9q9p4tc63j-highlandave~highlandway</th>\n",
       "      <td>0.131548</td>\n",
       "      <td>0.12992</td>\n",
       "      <td>0.144528</td>\n",
       "      <td>0.142918</td>\n",
       "      <td>0.141493</td>\n",
       "      <td>0.115628</td>\n",
       "      <td>0.109346</td>\n",
       "      <td>0.116897</td>\n",
       "      <td>0.122508</td>\n",
       "      <td>0.116955</td>\n",
       "      <td>...</td>\n",
       "      <td>0.12992</td>\n",
       "      <td>0.129175</td>\n",
       "      <td>0.133956</td>\n",
       "      <td>0.12302</td>\n",
       "      <td>0.120106</td>\n",
       "      <td>0.119199</td>\n",
       "      <td>0.12302</td>\n",
       "      <td>0.128882</td>\n",
       "      <td>0.128812</td>\n",
       "      <td>0.151773</td>\n",
       "    </tr>\n",
       "  </tbody>\n",
       "</table>\n",
       "<p>5 rows × 5649 columns</p>\n",
       "</div>"
      ],
      "text/plain": [
       "                                        s-9q9p616uyb-rockridge  \\\n",
       "s-9q9p1dh9te-14thst~broadway                           0.13011   \n",
       "s-9q9p19eumv-11thst~broadway                          0.129442   \n",
       "s-9q9p19u1u7-12thst~broadway                            0.1297   \n",
       "s-9q9p4ckf4b-fruitvaleave~macarthurblvd                 0.1198   \n",
       "s-9q9p4tc63j-highlandave~highlandway                  0.131548   \n",
       "\n",
       "                                        s-9q9p1wrwrp-macarthur  \\\n",
       "s-9q9p1dh9te-14thst~broadway                          0.137475   \n",
       "s-9q9p19eumv-11thst~broadway                          0.136204   \n",
       "s-9q9p19u1u7-12thst~broadway                          0.136702   \n",
       "s-9q9p4ckf4b-fruitvaleave~macarthurblvd               0.153495   \n",
       "s-9q9p4tc63j-highlandave~highlandway                   0.12992   \n",
       "\n",
       "                                        s-9q9p1dwqv1-19thstoakland  \\\n",
       "s-9q9p1dh9te-14thst~broadway                              0.208934   \n",
       "s-9q9p19eumv-11thst~broadway                              0.200042   \n",
       "s-9q9p19u1u7-12thst~broadway                              0.202969   \n",
       "s-9q9p4ckf4b-fruitvaleave~macarthurblvd                   0.129447   \n",
       "s-9q9p4tc63j-highlandave~highlandway                      0.144528   \n",
       "\n",
       "                                        s-9q9p19uw31-12thstoaklandcitycenter  \\\n",
       "s-9q9p1dh9te-14thst~broadway                                        0.279171   \n",
       "s-9q9p19eumv-11thst~broadway                                        0.218248   \n",
       "s-9q9p19u1u7-12thst~broadway                                        0.245908   \n",
       "s-9q9p4ckf4b-fruitvaleave~macarthurblvd                             0.134979   \n",
       "s-9q9p4tc63j-highlandave~highlandway                                0.142918   \n",
       "\n",
       "                                        s-9q9p145u1w-westoakland  \\\n",
       "s-9q9p1dh9te-14thst~broadway                            0.160715   \n",
       "s-9q9p19eumv-11thst~broadway                            0.161205   \n",
       "s-9q9p19u1u7-12thst~broadway                             0.16113   \n",
       "s-9q9p4ckf4b-fruitvaleave~macarthurblvd                 0.131708   \n",
       "s-9q9p4tc63j-highlandave~highlandway                    0.141493   \n",
       "\n",
       "                                        s-9q8znb12j1-embarcadero  \\\n",
       "s-9q9p1dh9te-14thst~broadway                            0.126589   \n",
       "s-9q9p19eumv-11thst~broadway                            0.126697   \n",
       "s-9q9p19u1u7-12thst~broadway                            0.126665   \n",
       "s-9q9p4ckf4b-fruitvaleave~macarthurblvd                 0.124007   \n",
       "s-9q9p4tc63j-highlandave~highlandway                    0.115628   \n",
       "\n",
       "                                        s-9q8yyxq427-montgomeryst  \\\n",
       "s-9q9p1dh9te-14thst~broadway                             0.137222   \n",
       "s-9q9p19eumv-11thst~broadway                             0.137332   \n",
       "s-9q9p19u1u7-12thst~broadway                             0.137298   \n",
       "s-9q9p4ckf4b-fruitvaleave~macarthurblvd                  0.112781   \n",
       "s-9q9p4tc63j-highlandave~highlandway                     0.109346   \n",
       "\n",
       "                                        s-9q8yywd198-powellst  \\\n",
       "s-9q9p1dh9te-14thst~broadway                         0.135629   \n",
       "s-9q9p19eumv-11thst~broadway                         0.135738   \n",
       "s-9q9p19u1u7-12thst~broadway                         0.135704   \n",
       "s-9q9p4ckf4b-fruitvaleave~macarthurblvd              0.119407   \n",
       "s-9q9p4tc63j-highlandave~highlandway                 0.116897   \n",
       "\n",
       "                                        s-9q8yymt18w-civiccenter~unplaza  \\\n",
       "s-9q9p1dh9te-14thst~broadway                                    0.122118   \n",
       "s-9q9p19eumv-11thst~broadway                                    0.122227   \n",
       "s-9q9p19u1u7-12thst~broadway                                    0.122192   \n",
       "s-9q9p4ckf4b-fruitvaleave~macarthurblvd                         0.125079   \n",
       "s-9q9p4tc63j-highlandave~highlandway                            0.122508   \n",
       "\n",
       "                                        s-9q8yy6btqm-16thstmission  \\\n",
       "s-9q9p1dh9te-14thst~broadway                              0.146438   \n",
       "s-9q9p19eumv-11thst~broadway                              0.146556   \n",
       "s-9q9p19u1u7-12thst~broadway                              0.146517   \n",
       "s-9q9p4ckf4b-fruitvaleave~macarthurblvd                   0.110679   \n",
       "s-9q9p4tc63j-highlandave~highlandway                      0.116955   \n",
       "\n",
       "                                                      ...                 \\\n",
       "s-9q9p1dh9te-14thst~broadway                          ...                  \n",
       "s-9q9p19eumv-11thst~broadway                          ...                  \n",
       "s-9q9p19u1u7-12thst~broadway                          ...                  \n",
       "s-9q9p4ckf4b-fruitvaleave~macarthurblvd               ...                  \n",
       "s-9q9p4tc63j-highlandave~highlandway                  ...                  \n",
       "\n",
       "                                        s-9q9p1wxf72-macarthur  \\\n",
       "s-9q9p1dh9te-14thst~broadway                          0.137475   \n",
       "s-9q9p19eumv-11thst~broadway                          0.136204   \n",
       "s-9q9p19u1u7-12thst~broadway                          0.136702   \n",
       "s-9q9p4ckf4b-fruitvaleave~macarthurblvd               0.153495   \n",
       "s-9q9p4tc63j-highlandave~highlandway                   0.12992   \n",
       "\n",
       "                                        s-9q8yyk3eds-missionst~southvannessave  \\\n",
       "s-9q9p1dh9te-14thst~broadway                                          0.116698   \n",
       "s-9q9p19eumv-11thst~broadway                                           0.11681   \n",
       "s-9q9p19u1u7-12thst~broadway                                          0.116774   \n",
       "s-9q9p4ckf4b-fruitvaleave~macarthurblvd                               0.123819   \n",
       "s-9q9p4tc63j-highlandave~highlandway                                  0.129175   \n",
       "\n",
       "                                        s-9q8yycs1g5-22ndst~pennsylvaniaave  \\\n",
       "s-9q9p1dh9te-14thst~broadway                                       0.125904   \n",
       "s-9q9p19eumv-11thst~broadway                                       0.126067   \n",
       "s-9q9p19u1u7-12thst~broadway                                        0.13101   \n",
       "s-9q9p4ckf4b-fruitvaleave~macarthurblvd                            0.130808   \n",
       "s-9q9p4tc63j-highlandave~highlandway                               0.133956   \n",
       "\n",
       "                                        s-9q8yyct493-22ndst~iowast  \\\n",
       "s-9q9p1dh9te-14thst~broadway                              0.140997   \n",
       "s-9q9p19eumv-11thst~broadway                              0.141163   \n",
       "s-9q9p19u1u7-12thst~broadway                              0.148105   \n",
       "s-9q9p4ckf4b-fruitvaleave~macarthurblvd                   0.120874   \n",
       "s-9q9p4tc63j-highlandave~highlandway                       0.12302   \n",
       "\n",
       "                                        s-9q8yycw746-22ndst~minnesotast  \\\n",
       "s-9q9p1dh9te-14thst~broadway                                   0.129123   \n",
       "s-9q9p19eumv-11thst~broadway                                   0.129292   \n",
       "s-9q9p19u1u7-12thst~broadway                                   0.135233   \n",
       "s-9q9p4ckf4b-fruitvaleave~macarthurblvd                        0.121964   \n",
       "s-9q9p4tc63j-highlandave~highlandway                           0.120106   \n",
       "\n",
       "                                        s-9q8yycxser-3rdst~22ndst  \\\n",
       "s-9q9p1dh9te-14thst~broadway                             0.136259   \n",
       "s-9q9p19eumv-11thst~broadway                             0.136431   \n",
       "s-9q9p19u1u7-12thst~broadway                             0.143371   \n",
       "s-9q9p4ckf4b-fruitvaleave~macarthurblvd                  0.122059   \n",
       "s-9q9p4tc63j-highlandave~highlandway                     0.119199   \n",
       "\n",
       "                                        s-9q8yyct4bq-22ndst~iowast  \\\n",
       "s-9q9p1dh9te-14thst~broadway                              0.140997   \n",
       "s-9q9p19eumv-11thst~broadway                              0.141163   \n",
       "s-9q9p19u1u7-12thst~broadway                              0.148105   \n",
       "s-9q9p4ckf4b-fruitvaleave~macarthurblvd                   0.120873   \n",
       "s-9q9p4tc63j-highlandave~highlandway                       0.12302   \n",
       "\n",
       "                                        s-9q8yych5sp-pennsylvaniaavenue~23rdstreet  \\\n",
       "s-9q9p1dh9te-14thst~broadway                                              0.125804   \n",
       "s-9q9p19eumv-11thst~broadway                                              0.125969   \n",
       "s-9q9p19u1u7-12thst~broadway                                              0.129911   \n",
       "s-9q9p4ckf4b-fruitvaleave~macarthurblvd                                   0.129763   \n",
       "s-9q9p4tc63j-highlandave~highlandway                                      0.128882   \n",
       "\n",
       "                                        s-9q8yybskfp-pennsylvaniaavenue~25thstreet  \\\n",
       "s-9q9p1dh9te-14thst~broadway                                              0.129711   \n",
       "s-9q9p19eumv-11thst~broadway                                              0.129877   \n",
       "s-9q9p19u1u7-12thst~broadway                                              0.133818   \n",
       "s-9q9p4ckf4b-fruitvaleave~macarthurblvd                                   0.129723   \n",
       "s-9q9p4tc63j-highlandave~highlandway                                      0.128812   \n",
       "\n",
       "                                        s-9q9ngh8rrh-highst~foothillblvd  \n",
       "s-9q9p1dh9te-14thst~broadway                                    0.135044  \n",
       "s-9q9p19eumv-11thst~broadway                                    0.135137  \n",
       "s-9q9p19u1u7-12thst~broadway                                    0.135079  \n",
       "s-9q9p4ckf4b-fruitvaleave~macarthurblvd                         0.154244  \n",
       "s-9q9p4tc63j-highlandave~highlandway                            0.151773  \n",
       "\n",
       "[5 rows x 5649 columns]"
      ]
     },
     "execution_count": 428,
     "metadata": {},
     "output_type": "execute_result"
    }
   ],
   "source": [
    "similarity_matrix.head()"
   ]
  },
  {
   "cell_type": "markdown",
   "metadata": {},
   "source": [
    "# Draw Similarity Heatmap"
   ]
  },
  {
   "cell_type": "code",
   "execution_count": 374,
   "metadata": {
    "collapsed": true
   },
   "outputs": [],
   "source": [
    "def reindex_matrix(similarity_matrix):\n",
    "    '''Reindexes row and column names for heatmap'''\n",
    "    plotdata = similarity_matrix.copy()\n",
    "    plotdata.reset_index(inplace=True, drop=True)\n",
    "    plotdata.columns = range(len(plotdata.columns))\n",
    "    return plotdata\n",
    "\n",
    "def similarity_heatmap(similarity_matrix, title='Similarity Matrix', filename='heatmap1'):\n",
    "    '''Creates heatmap from the reindexed similarity matrix'''\n",
    "    plotdata = reindex_matrix(similarity_matrix)\n",
    "    \n",
    "    data = [Heatmap(\n",
    "        z = plotdata.values.tolist(),\n",
    "        #zmin = 0,\n",
    "        #zmax = 1,\n",
    "        colorscale ='Viridis')]\n",
    "    \n",
    "    layout=Layout(\n",
    "        title = title,\n",
    "        xaxis = {'title':'Simple Stops'},\n",
    "        yaxis = {'title':'Stations'}\n",
    "    )\n",
    "    \n",
    "    figure= Figure(data=data,layout=layout)\n",
    "    return py.iplot(figure, filename=filename)"
   ]
  },
  {
   "cell_type": "code",
   "execution_count": 375,
   "metadata": {
    "collapsed": false
   },
   "outputs": [
    {
     "data": {
      "text/html": [
       "<iframe id=\"igraph\" scrolling=\"no\" style=\"border:none;\" seamless=\"seamless\" src=\"https://plot.ly/~willgeary/66.embed\" height=\"525px\" width=\"100%\"></iframe>"
      ],
      "text/plain": [
       "<plotly.tools.PlotlyDisplay object>"
      ]
     },
     "execution_count": 375,
     "metadata": {},
     "output_type": "execute_result"
    }
   ],
   "source": [
    "similarity_heatmap(similarity_matrix)"
   ]
  },
  {
   "cell_type": "code",
   "execution_count": 429,
   "metadata": {
    "collapsed": false
   },
   "outputs": [],
   "source": [
    "def compare_records(station_index, simple_stop_index, similarity_matrix, data):\n",
    "    station_record = filter(lambda i: i['onestop_id'] == list(similarity_matrix.index)[station_index], data['stop_stations'])[0]\n",
    "    simple_stop_record = filter(lambda i: i['onestop_id'] == list(similarity_matrix.columns)[simple_stop_index], data['stop_stations'])[0]\n",
    "    \n",
    "    print \"#### Station Record ####\"\n",
    "    print 'Name:', station_record['name']\n",
    "    print 'Operators:', station_record['operators_serving_stop_and_platforms'][0]['operator_name']\n",
    "    print 'Served by:', station_record['vehicle_types_serving_stop_and_platforms']\n",
    "    print 'Onestop-id:', station_record['onestop_id']\n",
    "    print 'Long, Lat:', station_record['geometry']['coordinates']\n",
    "    print \"\"\n",
    "    print \"#### Simple Stop Record ####\"\n",
    "    print 'Name:', simple_stop_record['name']\n",
    "    print 'Operators:', simple_stop_record['operators_serving_stop_and_platforms'][0]['operator_name']\n",
    "    print 'Served by:', simple_stop_record['vehicle_types_serving_stop_and_platforms']\n",
    "    print 'Onestop-id:', simple_stop_record['onestop_id']\n",
    "    print 'Long, Lat:', simple_stop_record['geometry']['coordinates']\n",
    "    print \"\"   \n",
    "    print 'Similarity Score:', similarity_matrix.ix[station_record['onestop_id']][simple_stop_record['onestop_id']]\n",
    "    \n",
    "    return simple_stop_record['geometry']['coordinates']"
   ]
  },
  {
   "cell_type": "code",
   "execution_count": 434,
   "metadata": {
    "collapsed": false
   },
   "outputs": [
    {
     "name": "stdout",
     "output_type": "stream",
     "text": [
      "#### Station Record ####\n",
      "Name: 24TH ST. & MISSION ST.\n",
      "Operators: Alameda-Contra Costa Transit District\n",
      "Served by: [u'bus']\n",
      "Onestop-id: s-9q8yy29g1p-24thst~missionst\n",
      "Long, Lat: [-122.418206, 37.752327]\n",
      "\n",
      "#### Simple Stop Record ####\n",
      "Name: 24th St. Mission\n",
      "Operators: Bay Area Rapid Transit\n",
      "Served by: [u'metro']\n",
      "Onestop-id: s-9q8yy29dff-24thstmission\n",
      "Long, Lat: [-122.418143, 37.75247]\n",
      "\n",
      "Similarity Score: 0.409893071906\n"
     ]
    }
   ],
   "source": [
    "#loc = compare_records(15, 5364, similarity_matrix, data)\n",
    "loc = compare_records(13, 10, similarity_matrix, data)"
   ]
  },
  {
   "cell_type": "markdown",
   "metadata": {},
   "source": [
    "# View satellite imagery"
   ]
  },
  {
   "cell_type": "code",
   "execution_count": 407,
   "metadata": {
    "collapsed": true
   },
   "outputs": [],
   "source": [
    "import cesiumpy\n",
    "%matplotlib inline"
   ]
  },
  {
   "cell_type": "code",
   "execution_count": 436,
   "metadata": {
    "collapsed": false,
    "scrolled": false
   },
   "outputs": [
    {
     "data": {
      "text/html": [
       "<script src=\"https://cesiumjs.org/Cesium/Build/Cesium/Cesium.js\"></script>\n",
       "<link rel=\"stylesheet\" href=\"https://cesiumjs.org/Cesium/Build/Cesium/Widgets/widgets.css\" type=\"text/css\">\n",
       "<div id=\"container-5335881744\" style=\"width:100%; height:100%;\"><div>\n",
       "<script type=\"text/javascript\">\n",
       "  var widget = new Cesium.Viewer(\"container-5335881744\", {baseLayerPicker : false, terrainProvider : new Cesium.CesiumTerrainProvider({url : \"//assets.agi.com/stk-terrain/world\"})});\n",
       "  widget.entities.add({position : Cesium.Cartesian3.fromDegrees(-122.418143, 37.75247, 0.0), billboard : {image : new Cesium.PinBuilder().fromText(\"!\", Cesium.Color.GREEN, 48.0)}});\n",
       "  widget.camera.flyTo({destination : Cesium.Cartesian3.fromDegrees(-122.418143, 37.75247, 50.0)});\n",
       "</script>"
      ],
      "text/plain": [
       "<cesiumpy.viewer.Viewer at 0x13f0b61d0>"
      ]
     },
     "execution_count": 436,
     "metadata": {},
     "output_type": "execute_result"
    }
   ],
   "source": [
    "#v = cesiumpy.CesiumWidget()\n",
    "#v.camera.flyTo((-117.16, 32.71, 15000))\n",
    "url = '//assets.agi.com/stk-terrain/world'\n",
    "terrainProvider = cesiumpy.CesiumTerrainProvider(url=url)\n",
    "v = cesiumpy.Viewer(terrainProvider=terrainProvider)\n",
    "v.camera.flyTo((loc[0], loc[1], 50))\n",
    "pin3 = cesiumpy.Pin.fromText('!', color=cesiumpy.color.GREEN)\n",
    "bill3 = cesiumpy.Billboard(position=[loc[0], loc[1]], image=pin3)\n",
    "v.entities.add(bill3)\n",
    "\n",
    "v"
   ]
  },
  {
   "cell_type": "code",
   "execution_count": null,
   "metadata": {
    "collapsed": true
   },
   "outputs": [],
   "source": []
  },
  {
   "cell_type": "code",
   "execution_count": null,
   "metadata": {
    "collapsed": true
   },
   "outputs": [],
   "source": []
  },
  {
   "cell_type": "code",
   "execution_count": null,
   "metadata": {
    "collapsed": true
   },
   "outputs": [],
   "source": [
    "compare_records(15, 5364, similarity_matrix, data)"
   ]
  },
  {
   "cell_type": "code",
   "execution_count": 381,
   "metadata": {
    "collapsed": false
   },
   "outputs": [
    {
     "name": "stdout",
     "output_type": "stream",
     "text": [
      "#### Station Record ####\n",
      "Name: 24TH ST. & MISSION ST.\n",
      "Operators: Alameda-Contra Costa Transit District\n",
      "Served by: [u'bus']\n",
      "Onestop-id: s-9q8yy29g1p-24thst~missionst\n",
      "\n",
      "#### Simple Stop Record ####\n",
      "Name: 24th St. Mission\n",
      "Operators: Bay Area Rapid Transit\n",
      "Served by: [u'metro']\n",
      "Onestop-id: s-9q8yy29dff-24thstmission\n",
      "\n",
      "Similarity Score: 0.409893071906\n"
     ]
    }
   ],
   "source": [
    "compare_records(13, 10, similarity_matrix, data)"
   ]
  },
  {
   "cell_type": "code",
   "execution_count": 382,
   "metadata": {
    "collapsed": false
   },
   "outputs": [
    {
     "name": "stdout",
     "output_type": "stream",
     "text": [
      "#### Station Record ####\n",
      "Name: MARKET ST. & SOUTH VAN NESS AVE.\n",
      "Operators: Alameda-Contra Costa Transit District\n",
      "Served by: [u'bus']\n",
      "Onestop-id: s-9q8yykc0k8-marketst~southvannessave\n",
      "\n",
      "#### Simple Stop Record ####\n",
      "Name: VAN NESS AVE & MARKET ST\n",
      "Operators: San Francisco Municipal Transportation Agency\n",
      "Served by: [u'bus']\n",
      "Onestop-id: s-9q8yykc08d-vannessave~marketst\n",
      "\n",
      "Similarity Score: 0.411349937583\n"
     ]
    }
   ],
   "source": [
    "compare_records(15, 5364, similarity_matrix, data)"
   ]
  },
  {
   "cell_type": "code",
   "execution_count": 400,
   "metadata": {
    "collapsed": false
   },
   "outputs": [
    {
     "name": "stdout",
     "output_type": "stream",
     "text": [
      "#### Station Record ####\n",
      "Name: 40TH ST. & SAN PABLO AVE.\n",
      "Operators: Alameda-Contra Costa Transit District\n",
      "Served by: [u'bus']\n",
      "Onestop-id: s-9q9p1qzn8j-40thst~sanpabloave\n",
      "\n",
      "#### Simple Stop Record ####\n",
      "Name: 40th at San Pablo\n",
      "Operators: Emery Go-Round\n",
      "Served by: [u'bus']\n",
      "Onestop-id: s-9q9p1qyz5e-40thatsanpablo\n",
      "\n",
      "Similarity Score: 0.387784551273\n"
     ]
    }
   ],
   "source": [
    "compare_records(8, 5553, similarity_matrix, data)"
   ]
  },
  {
   "cell_type": "code",
   "execution_count": 401,
   "metadata": {
    "collapsed": false
   },
   "outputs": [
    {
     "name": "stdout",
     "output_type": "stream",
     "text": [
      "#### Station Record ####\n",
      "Name: 40TH ST. & SAN PABLO AVE.\n",
      "Operators: Alameda-Contra Costa Transit District\n",
      "Served by: [u'bus']\n",
      "Onestop-id: s-9q9p1qzn8j-40thst~sanpabloave\n",
      "\n",
      "#### Simple Stop Record ####\n",
      "Name: 40th at San Pablo\n",
      "Operators: Emery Go-Round\n",
      "Served by: [u'bus']\n",
      "Onestop-id: s-9q9p1qznh4-40thatsanpablo\n",
      "\n",
      "Similarity Score: 0.388330536028\n"
     ]
    }
   ],
   "source": [
    "compare_records(8, 5575, similarity_matrix, data)"
   ]
  },
  {
   "cell_type": "code",
   "execution_count": null,
   "metadata": {
    "collapsed": true
   },
   "outputs": [],
   "source": []
  },
  {
   "cell_type": "code",
   "execution_count": null,
   "metadata": {
    "collapsed": true
   },
   "outputs": [],
   "source": []
  },
  {
   "cell_type": "markdown",
   "metadata": {},
   "source": [
    "# Optional:"
   ]
  },
  {
   "cell_type": "code",
   "execution_count": null,
   "metadata": {
    "collapsed": true
   },
   "outputs": [],
   "source": []
  }
 ],
 "metadata": {
  "anaconda-cloud": {},
  "kernelspec": {
   "display_name": "Python [Root]",
   "language": "python",
   "name": "Python [Root]"
  },
  "language_info": {
   "codemirror_mode": {
    "name": "ipython",
    "version": 2
   },
   "file_extension": ".py",
   "mimetype": "text/x-python",
   "name": "python",
   "nbconvert_exporter": "python",
   "pygments_lexer": "ipython2",
   "version": "2.7.12"
  }
 },
 "nbformat": 4,
 "nbformat_minor": 0
}
