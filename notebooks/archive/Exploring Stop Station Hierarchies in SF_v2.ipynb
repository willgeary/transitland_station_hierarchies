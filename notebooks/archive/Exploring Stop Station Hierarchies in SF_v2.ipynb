{
 "cells": [
  {
   "cell_type": "markdown",
   "metadata": {},
   "source": [
    "# Get all stop stations within bounding box"
   ]
  },
  {
   "cell_type": "code",
   "execution_count": 1,
   "metadata": {
    "collapsed": true
   },
   "outputs": [],
   "source": [
    "import requests"
   ]
  },
  {
   "cell_type": "code",
   "execution_count": 2,
   "metadata": {
    "collapsed": false
   },
   "outputs": [
    {
     "name": "stdout",
     "output_type": "stream",
     "text": [
      "5669 stop_stations in bounding box\n",
      "5669 stop_stations in json response\n",
      "CPU times: user 403 ms, sys: 67.4 ms, total: 470 ms\n",
      "Wall time: 56.3 s\n"
     ]
    }
   ],
   "source": [
    "%%time\n",
    "mapzen_api_key = \"mapzen-ai1duha\"\n",
    "bbox = \"-122.699432,37.665070,-122.211227,37.861302\"\n",
    "response = requests.get(\"http://transit.land/api/v1/stop_stations?bbox={}&api_key={}&per_page=false&total=true\".format(bbox, mapzen_api_key))\n",
    "data = response.json()\n",
    "print data['meta']['total'], \"stop_stations in bounding box\"\n",
    "print len(data['stop_stations']), \"stop_stations in json response\""
   ]
  },
  {
   "cell_type": "markdown",
   "metadata": {},
   "source": [
    "# Classify each stop station as either \"simple stop\" or \"station\""
   ]
  },
  {
   "cell_type": "code",
   "execution_count": 3,
   "metadata": {
    "collapsed": true
   },
   "outputs": [],
   "source": [
    "def classify_stop_station_types(json_input):\n",
    "    # May be easier to add this information into json itself rather than separate array...?\n",
    "    stop_station_types_output = []\n",
    "    for stop_station in json_input['stop_stations']:\n",
    "        generated_or_not_generated = []\n",
    "        \n",
    "        for stop_egress in stop_station['stop_egresses']:\n",
    "            generated_or_not_generated.append(stop_egress['generated'])\n",
    "\n",
    "        for stop_platform in stop_station['stop_platforms']:\n",
    "            generated_or_not_generated.append(stop_platform['generated'])\n",
    "\n",
    "        # if a particular station has all stop egresses and stop platforms with\n",
    "        # generated = true, then it's just a simple stop. otherwise, its a station\n",
    "        \n",
    "        if all(generated_or_not_generated):\n",
    "            stop_station_types_output.append(\"Simple Stop\")\n",
    "        else:\n",
    "            stop_station_types_output.append(\"Station\")\n",
    "            \n",
    "    return stop_station_types_output"
   ]
  },
  {
   "cell_type": "code",
   "execution_count": 4,
   "metadata": {
    "collapsed": false
   },
   "outputs": [
    {
     "name": "stdout",
     "output_type": "stream",
     "text": [
      "5649 Simple Stops\n",
      "20 Stations\n"
     ]
    }
   ],
   "source": [
    "stop_station_types = classify_stop_station_types(data)\n",
    "\n",
    "print sum((i == \"Simple Stop\") for i in stop_station_types), \"Simple Stops\"\n",
    "print sum((i == \"Station\") for i in stop_station_types), \"Stations\""
   ]
  },
  {
   "cell_type": "markdown",
   "metadata": {},
   "source": [
    "# Get all of the stop stations for mapping"
   ]
  },
  {
   "cell_type": "code",
   "execution_count": 17,
   "metadata": {
    "collapsed": true
   },
   "outputs": [],
   "source": [
    "def get_stop_stations_for_map(json_input, stop_station_types):\n",
    "    output = []\n",
    "    count = 0\n",
    "    for i in json_input['stop_stations']:\n",
    "        results = {}\n",
    "        results['stop_station_lon'] = i['geometry']['coordinates'][0]\n",
    "        results['stop_station_lat'] = i['geometry']['coordinates'][1]\n",
    "        results['stop_station_name'] = str(i['name']).replace('\"',\"\")\n",
    "        results['operators_serving_stop_and_platforms'] = [str(j['operator_name']) for j in i['operators_serving_stop_and_platforms']]\n",
    "        \n",
    "        if stop_station_types[count] == 'Station':\n",
    "            if len(i['stop_platforms']) == 0:\n",
    "                results['stop_station_type'] = 'Station w 0 Platforms'\n",
    "            elif len(i['stop_platforms']) == 1:\n",
    "                results['stop_station_type'] = 'Station w 1 Platform'\n",
    "            elif len(i['stop_platforms']) == 2:\n",
    "                results['stop_station_type'] = 'Station w 2 Platforms'\n",
    "            elif len(i['stop_platforms']) > 2:\n",
    "                results['stop_station_type'] = 'Station w >2 Platforms'            \n",
    "        else:        \n",
    "            results['stop_station_type'] = stop_station_types[count]\n",
    "\n",
    "        results['number_of_stop_platforms'] = len(i['stop_platforms'])             \n",
    "                \n",
    "        output.append(results)\n",
    "        count += 1\n",
    "    \n",
    "    return output"
   ]
  },
  {
   "cell_type": "code",
   "execution_count": 18,
   "metadata": {
    "collapsed": true
   },
   "outputs": [],
   "source": [
    "stop_stations = get_stop_stations_for_map(data, stop_station_types)"
   ]
  },
  {
   "cell_type": "markdown",
   "metadata": {},
   "source": [
    "# Get all of the stop platforms for mapping"
   ]
  },
  {
   "cell_type": "code",
   "execution_count": 19,
   "metadata": {
    "collapsed": true
   },
   "outputs": [],
   "source": [
    "def get_stop_platforms_for_map(json_input):\n",
    "    output = []\n",
    "    for i in json_input['stop_stations']:\n",
    "        for stop_platform in i['stop_platforms']:\n",
    "            platform = {}\n",
    "            if stop_platform['generated'] == False:\n",
    "                platform['parent_station_id'] = i['onestop_id']\n",
    "                platform['parent_station_name'] = i['name']\n",
    "                platform['stop_platform_lon'] = stop_platform['geometry']['coordinates'][0]\n",
    "                platform['stop_platform_lat'] = stop_platform['geometry']['coordinates'][1]\n",
    "                platform['operators_serving_stop_and_platforms'] = i['operators_serving_stop_and_platforms']\n",
    "                platform['stop_station_type'] = \"Stop Platform\"\n",
    "                output.append(platform)                    \n",
    "    return output"
   ]
  },
  {
   "cell_type": "code",
   "execution_count": 20,
   "metadata": {
    "collapsed": true
   },
   "outputs": [],
   "source": [
    "stop_platforms = get_stop_platforms_for_map(data)"
   ]
  },
  {
   "cell_type": "markdown",
   "metadata": {},
   "source": [
    "# Draw lines from station stops to stop platforms"
   ]
  },
  {
   "cell_type": "code",
   "execution_count": 21,
   "metadata": {
    "collapsed": true
   },
   "outputs": [],
   "source": [
    "def get_lines_for_map(json_input):\n",
    "    lines = []\n",
    "    for stop_station in json_input['stop_stations']:\n",
    "        for stop_platform in stop_station['stop_platforms']:\n",
    "            if stop_platform['generated'] == False:\n",
    "                stop_station_lon = stop_station['geometry']['coordinates'][0]\n",
    "                stop_station_lat = stop_station['geometry']['coordinates'][1]\n",
    "                stop_platform_lon = stop_platform['geometry']['coordinates'][0]\n",
    "                stop_platform_lat = stop_platform['geometry']['coordinates'][1]\n",
    "                line = [(stop_station_lat, stop_station_lon), (stop_platform_lat, stop_platform_lon)]\n",
    "                lines.append(line)\n",
    "                \n",
    "    return lines"
   ]
  },
  {
   "cell_type": "code",
   "execution_count": 22,
   "metadata": {
    "collapsed": true
   },
   "outputs": [],
   "source": [
    "lines = get_lines_for_map(data)"
   ]
  },
  {
   "cell_type": "markdown",
   "metadata": {},
   "source": [
    "# Throw it all on a map!"
   ]
  },
  {
   "cell_type": "code",
   "execution_count": 11,
   "metadata": {
    "collapsed": true
   },
   "outputs": [],
   "source": [
    "import folium"
   ]
  },
  {
   "cell_type": "code",
   "execution_count": 23,
   "metadata": {
    "collapsed": true
   },
   "outputs": [],
   "source": [
    "def make_map(stop_stations, stop_platforms, lines, bbox, basemap = 'Mapbox', save_to_html=False):\n",
    "    \n",
    "    # Calculate center location from bbox\n",
    "    bbox_lons = [float(bbox.split(\",\")[0]), float(bbox.split(\",\")[2])]\n",
    "    bbox_lats = [float(bbox.split(\",\")[1]), float(bbox.split(\",\")[3])]\n",
    "    default_lon = sum(bbox_lons) / len(bbox_lons)\n",
    "    default_lat = sum(bbox_lats) / len(bbox_lats)\n",
    "    \n",
    "    # Choose basemap (currently either Mapbox or OSM)\n",
    "    if basemap == 'Mapbox':\n",
    "        baseurl = 'http://{s}.tiles.mapbox.com/v4/mapbox.light/{z}/{x}/{y}.png'\n",
    "        mapbox_api_key = 'pk.eyJ1Ijoid2lsbGdlYXJ5IiwiYSI6ImNpdW9wcmkxNjAxbDUydXQ0MzFwdmdvOWkifQ.9YIdQhYTOpRpocyFK-tBNA'\n",
    "        token = '?access_token={}'.format(mapbox_api_key)\n",
    "        m = folium.Map(location=[default_lat, default_lon], zoom_start=13, tiles=baseurl+token, attr='Mapbox')\n",
    "\n",
    "    elif basemap == 'OSM':\n",
    "        m = folium.Map(location=[default_lat, default_lon], zoom_start=13)\n",
    "    \n",
    "    # Define point color scheme\n",
    "    colors = {'Simple Stop': '#3186cc', \n",
    "              'Station w 0 Platforms': '#fee5d9',\n",
    "              'Station w 1 Platform': '#fc9272', \n",
    "              'Station w 2 Platforms': '#ef3b2c',\n",
    "              'Station w >2 Platforms': '#99000d', \n",
    "              'Stop Platform': '#32CD32', \n",
    "              'Line': '#000000'}\n",
    "    \n",
    "    # Make radius bigger for stations with more platforms\n",
    "    station_radius = {'Station w 0 Platforms': 3,\n",
    "                      'Station w 1 Platform': 4,\n",
    "                      'Station w 2 Platforms': 5,\n",
    "                      'Station w >2 Platforms': 6,\n",
    "                      'Simple Stop': 3}\n",
    "    # Draw lines\n",
    "    for i in lines:\n",
    "        folium.PolyLine(locations=i, color=colors['Line'], weight=2, opacity=1).add_to(m)\n",
    "        \n",
    "    # Draw stop_platforms\n",
    "    for i in stop_platforms:\n",
    "        popup_html = folium.Html('<b>Name: </b> {} <br> <b>Operators:</b> {} <br> <b>Type:</b> {}'.format(i['parent_station_name'].replace(\"'\",\"\"), i['operators_serving_stop_and_platforms'][0]['operator_name'], i['stop_station_type']), script=True)\n",
    "        popup = folium.Popup(popup_html, max_width=2650)\n",
    "        folium.CircleMarker(location=[i['stop_platform_lat'], i['stop_platform_lon']], radius=4,\n",
    "                       popup=popup, color=colors[i['stop_station_type']], fill_opacity=0.8,\n",
    "                       fill_color=colors[i['stop_station_type']]).add_to(m)\n",
    "        \n",
    "    # Draw station_stops\n",
    "    for i in station_stops:\n",
    "        popup_html = folium.Html('<b>Name: </b> {} <br> <b>Operators:</b> {} <br> <b>Type:</b> {}'.format(i['stop_station_name'].replace(\"'\",\"\"), ','.join(i['operators_serving_stop_and_platforms']), i['stop_station_type']), script=True)\n",
    "        popup = folium.Popup(popup_html, max_width=2650)\n",
    "        folium.CircleMarker(location=[i['stop_station_lat'], i['stop_station_lon']], radius=station_radius[i['stop_station_type']],\n",
    "                        popup=popup, color=colors[i['stop_station_type']], fill_opacity=0.8,\n",
    "                        fill_color=colors[i['stop_station_type']]).add_to(m)\n",
    "\n",
    "    # Optional save map to html\n",
    "    if save_to_html:\n",
    "        m.save(save_to_html)\n",
    "    else:\n",
    "        return m"
   ]
  },
  {
   "cell_type": "code",
   "execution_count": 13,
   "metadata": {
    "collapsed": false
   },
   "outputs": [
    {
     "name": "stdout",
     "output_type": "stream",
     "text": [
      "CPU times: user 4min 14s, sys: 3.54 s, total: 4min 17s\n",
      "Wall time: 4min 23s\n"
     ]
    }
   ],
   "source": [
    "%%time\n",
    "make_map(stop_stations, stop_platforms, lines, bbox, save_to_html=\"../maps/map5.html\")"
   ]
  },
  {
   "cell_type": "markdown",
   "metadata": {},
   "source": [
    "# \"Fuzzy string matching\" to detect simple stops that should be platforms"
   ]
  },
  {
   "cell_type": "code",
   "execution_count": null,
   "metadata": {
    "collapsed": true
   },
   "outputs": [],
   "source": [
    "def get_stop_stations(json_input, stop_station_types):\n",
    "    output = []\n",
    "    count = 0\n",
    "    for i in json_input['stop_stations']:\n",
    "        results = {}\n",
    "        results['stop_station_lon'] = i['geometry']['coordinates'][0]\n",
    "        results['stop_station_lat'] = i['geometry']['coordinates'][1]\n",
    "        results['stop_station_name'] = str(i['name']).replace('\"',\"\")\n",
    "        results['operators_serving_stop_and_platforms'] = [str(j['operator_name']) for j in i['operators_serving_stop_and_platforms']]\n",
    "        \n",
    "        if stop_station_types[count] == 'Station':\n",
    "            if len(i['stop_platforms']) == 0:\n",
    "                results['stop_station_type'] = 'Station w 0 Platforms'\n",
    "            elif len(i['stop_platforms']) == 1:\n",
    "                results['stop_station_type'] = 'Station w 1 Platform'\n",
    "            elif len(i['stop_platforms']) == 2:\n",
    "                results['stop_station_type'] = 'Station w 2 Platforms'\n",
    "            elif len(i['stop_platforms']) > 2:\n",
    "                results['stop_station_type'] = 'Station w >2 Platforms'            \n",
    "        else:        \n",
    "            results['stop_station_type'] = stop_station_types[count]\n",
    "\n",
    "        results['number_of_stop_platforms'] = len(i['stop_platforms'])             \n",
    "                \n",
    "        output.append(results)\n",
    "        count += 1\n",
    "    \n",
    "    return output"
   ]
  },
  {
   "cell_type": "code",
   "execution_count": 31,
   "metadata": {
    "collapsed": false
   },
   "outputs": [
    {
     "data": {
      "text/plain": [
       "{u'created_at': u'2016-02-06T20:08:39.838Z',\n",
       " u'created_or_updated_in_changeset_id': 6383,\n",
       " u'geometry': {u'coordinates': [-122.251371, 37.844702], u'type': u'Point'},\n",
       " u'name': u'Rockridge',\n",
       " u'onestop_id': u's-9q9p616uyb-rockridge',\n",
       " u'operators_serving_stop_and_platforms': [{u'operator_name': u'Bay Area Rapid Transit',\n",
       "   u'operator_onestop_id': u'o-9q9-bart'}],\n",
       " u'routes_serving_stop_and_platforms': [{u'operator_name': u'Bay Area Rapid Transit',\n",
       "   u'operator_onestop_id': u'o-9q9-bart',\n",
       "   u'route_name': u'Pittsburg/Bay Point - SFIA/Millbrae',\n",
       "   u'route_onestop_id': u'r-9q9-pittsburg~baypoint~sfia~millbrae'}],\n",
       " u'stop_egresses': [{u'created_at': None,\n",
       "   u'created_or_updated_in_changeset_id': None,\n",
       "   u'directionality': None,\n",
       "   u'generated': True,\n",
       "   u'geometry': {u'coordinates': [-122.251371, 37.844702], u'type': u'Point'},\n",
       "   u'last_conflated_at': u'2017-06-21T02:17:25.087Z',\n",
       "   u'name': u'Rockridge',\n",
       "   u'onestop_id': u's-9q9p616uyb-rockridge>',\n",
       "   u'osm_way_id': 53827767,\n",
       "   u'tags': None,\n",
       "   u'timezone': u'America/Los_Angeles',\n",
       "   u'updated_at': None,\n",
       "   u'wheelchair_boarding': None}],\n",
       " u'stop_platforms': [{u'created_at': None,\n",
       "   u'created_or_updated_in_changeset_id': None,\n",
       "   u'generated': True,\n",
       "   u'geometry': {u'coordinates': [-122.251371, 37.844702], u'type': u'Point'},\n",
       "   u'last_conflated_at': None,\n",
       "   u'name': u'Rockridge',\n",
       "   u'onestop_id': u's-9q9p616uyb-rockridge<',\n",
       "   u'served_by_vehicle_types': [u'metro'],\n",
       "   u'tags': {},\n",
       "   u'timezone': u'America/Los_Angeles',\n",
       "   u'updated_at': None,\n",
       "   u'wheelchair_boarding': None}],\n",
       " u'stop_transfers': [],\n",
       " u'tags': {u'osm_way_id': u'53827767',\n",
       "  u'stop_url': u'http://www.bart.gov/stations/ROCK/',\n",
       "  u'wheelchair_boarding': u'1',\n",
       "  u'zone_id': u'ROCK'},\n",
       " u'timezone': u'America/Los_Angeles',\n",
       " u'updated_at': u'2017-06-21T02:17:25.133Z',\n",
       " u'vehicle_types_serving_stop_and_platforms': [u'metro'],\n",
       " u'wheelchair_boarding': True}"
      ]
     },
     "execution_count": 31,
     "metadata": {},
     "output_type": "execute_result"
    }
   ],
   "source": [
    "data['stop_stations'][0]"
   ]
  },
  {
   "cell_type": "code",
   "execution_count": 15,
   "metadata": {
    "collapsed": false
   },
   "outputs": [
    {
     "data": {
      "text/plain": [
       "88"
      ]
     },
     "execution_count": 15,
     "metadata": {},
     "output_type": "execute_result"
    }
   ],
   "source": [
    "len(stop_platforms)"
   ]
  },
  {
   "cell_type": "code",
   "execution_count": 25,
   "metadata": {
    "collapsed": false
   },
   "outputs": [
    {
     "data": {
      "text/plain": [
       "5669"
      ]
     },
     "execution_count": 25,
     "metadata": {},
     "output_type": "execute_result"
    }
   ],
   "source": [
    "len(stop_stations)"
   ]
  },
  {
   "cell_type": "code",
   "execution_count": 26,
   "metadata": {
    "collapsed": false
   },
   "outputs": [
    {
     "data": {
      "text/plain": [
       "5669"
      ]
     },
     "execution_count": 26,
     "metadata": {},
     "output_type": "execute_result"
    }
   ],
   "source": [
    "len(stop_station_types)"
   ]
  },
  {
   "cell_type": "code",
   "execution_count": 27,
   "metadata": {
    "collapsed": false
   },
   "outputs": [
    {
     "data": {
      "text/plain": [
       "88"
      ]
     },
     "execution_count": 27,
     "metadata": {},
     "output_type": "execute_result"
    }
   ],
   "source": [
    "len(lines)"
   ]
  },
  {
   "cell_type": "code",
   "execution_count": 28,
   "metadata": {
    "collapsed": false
   },
   "outputs": [
    {
     "data": {
      "text/plain": [
       "{'number_of_stop_platforms': 1,\n",
       " 'operators_serving_stop_and_platforms': ['Bay Area Rapid Transit'],\n",
       " 'stop_station_lat': 37.844702,\n",
       " 'stop_station_lon': -122.251371,\n",
       " 'stop_station_name': 'Rockridge',\n",
       " 'stop_station_type': 'Simple Stop'}"
      ]
     },
     "execution_count": 28,
     "metadata": {},
     "output_type": "execute_result"
    }
   ],
   "source": [
    "stop_stations[0]"
   ]
  },
  {
   "cell_type": "code",
   "execution_count": null,
   "metadata": {
    "collapsed": true
   },
   "outputs": [],
   "source": [
    "['onestop_id',\n",
    " 'routes_serving_stop_and_platforms',\n",
    " 'stop_egresses',\n",
    " 'stop_platforms',\n",
    " \n"
   ]
  },
  {
   "cell_type": "code",
   "execution_count": 30,
   "metadata": {
    "collapsed": false
   },
   "outputs": [
    {
     "data": {
      "text/plain": [
       "{u'created_at': u'2016-02-06T20:08:39.838Z',\n",
       " u'created_or_updated_in_changeset_id': 6383,\n",
       " u'geometry': {u'coordinates': [-122.251371, 37.844702], u'type': u'Point'},\n",
       " u'name': u'Rockridge',\n",
       " u'onestop_id': u's-9q9p616uyb-rockridge',\n",
       " u'operators_serving_stop_and_platforms': [{u'operator_name': u'Bay Area Rapid Transit',\n",
       "   u'operator_onestop_id': u'o-9q9-bart'}],\n",
       " u'routes_serving_stop_and_platforms': [{u'operator_name': u'Bay Area Rapid Transit',\n",
       "   u'operator_onestop_id': u'o-9q9-bart',\n",
       "   u'route_name': u'Pittsburg/Bay Point - SFIA/Millbrae',\n",
       "   u'route_onestop_id': u'r-9q9-pittsburg~baypoint~sfia~millbrae'}],\n",
       " u'stop_egresses': [{u'created_at': None,\n",
       "   u'created_or_updated_in_changeset_id': None,\n",
       "   u'directionality': None,\n",
       "   u'generated': True,\n",
       "   u'geometry': {u'coordinates': [-122.251371, 37.844702], u'type': u'Point'},\n",
       "   u'last_conflated_at': u'2017-06-21T02:17:25.087Z',\n",
       "   u'name': u'Rockridge',\n",
       "   u'onestop_id': u's-9q9p616uyb-rockridge>',\n",
       "   u'osm_way_id': 53827767,\n",
       "   u'tags': None,\n",
       "   u'timezone': u'America/Los_Angeles',\n",
       "   u'updated_at': None,\n",
       "   u'wheelchair_boarding': None}],\n",
       " u'stop_platforms': [{u'created_at': None,\n",
       "   u'created_or_updated_in_changeset_id': None,\n",
       "   u'generated': True,\n",
       "   u'geometry': {u'coordinates': [-122.251371, 37.844702], u'type': u'Point'},\n",
       "   u'last_conflated_at': None,\n",
       "   u'name': u'Rockridge',\n",
       "   u'onestop_id': u's-9q9p616uyb-rockridge<',\n",
       "   u'served_by_vehicle_types': [u'metro'],\n",
       "   u'tags': {},\n",
       "   u'timezone': u'America/Los_Angeles',\n",
       "   u'updated_at': None,\n",
       "   u'wheelchair_boarding': None}],\n",
       " u'stop_transfers': [],\n",
       " u'tags': {u'osm_way_id': u'53827767',\n",
       "  u'stop_url': u'http://www.bart.gov/stations/ROCK/',\n",
       "  u'wheelchair_boarding': u'1',\n",
       "  u'zone_id': u'ROCK'},\n",
       " u'timezone': u'America/Los_Angeles',\n",
       " u'updated_at': u'2017-06-21T02:17:25.133Z',\n",
       " u'vehicle_types_serving_stop_and_platforms': [u'metro'],\n",
       " u'wheelchair_boarding': True}"
      ]
     },
     "execution_count": 30,
     "metadata": {},
     "output_type": "execute_result"
    }
   ],
   "source": [
    "data['stop_stations'][0]"
   ]
  },
  {
   "cell_type": "code",
   "execution_count": null,
   "metadata": {
    "collapsed": true
   },
   "outputs": [],
   "source": []
  }
 ],
 "metadata": {
  "anaconda-cloud": {},
  "kernelspec": {
   "display_name": "Python [Root]",
   "language": "python",
   "name": "Python [Root]"
  },
  "language_info": {
   "codemirror_mode": {
    "name": "ipython",
    "version": 2
   },
   "file_extension": ".py",
   "mimetype": "text/x-python",
   "name": "python",
   "nbconvert_exporter": "python",
   "pygments_lexer": "ipython2",
   "version": "2.7.12"
  }
 },
 "nbformat": 4,
 "nbformat_minor": 0
}
