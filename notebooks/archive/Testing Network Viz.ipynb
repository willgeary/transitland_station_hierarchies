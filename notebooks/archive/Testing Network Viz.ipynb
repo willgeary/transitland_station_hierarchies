{
 "cells": [
  {
   "cell_type": "code",
   "execution_count": 3,
   "metadata": {
    "collapsed": false
   },
   "outputs": [
    {
     "ename": "SyntaxError",
     "evalue": "invalid syntax (plots.py, line 232)",
     "output_type": "error",
     "traceback": [
      "\u001b[0;36m  File \u001b[0;32m\"/Users/Will/anaconda/lib/python2.7/site-packages/nxviz/plots.py\"\u001b[0;36m, line \u001b[0;32m232\u001b[0m\n\u001b[0;31m    patch = patches.PathPatch(path, lw=1, **self.edgeprops, zorder=1)\u001b[0m\n\u001b[0m                                                          ^\u001b[0m\n\u001b[0;31mSyntaxError\u001b[0m\u001b[0;31m:\u001b[0m invalid syntax\n"
     ]
    }
   ],
   "source": [
    "\"\"\"\n",
    "Displays a NetworkX barbell graph to screen using a ArcPlot.\n",
    "\"\"\"\n",
    "\n",
    "from nxviz.plots import ArcPlot\n",
    "from random import choice\n",
    "import networkx as nx\n",
    "import matplotlib.pyplot as plt\n",
    "\n",
    "G = nx.barbell_graph(m1=10, m2=3)\n",
    "for n, d in G.nodes(data=True):\n",
    "    G.node[n]['class'] = choice(['one', 'two', 'three'])\n",
    "c = ArcPlot(G, node_color=\"class\", node_order='class')\n",
    "c.draw()\n",
    "plt.show()"
   ]
  },
  {
   "cell_type": "code",
   "execution_count": 4,
   "metadata": {
    "collapsed": false
   },
   "outputs": [
    {
     "ename": "SyntaxError",
     "evalue": "invalid syntax (plots.py, line 232)",
     "output_type": "error",
     "traceback": [
      "\u001b[0;36m  File \u001b[0;32m\"/Users/Will/anaconda/lib/python2.7/site-packages/nxviz/plots.py\"\u001b[0;36m, line \u001b[0;32m232\u001b[0m\n\u001b[0;31m    patch = patches.PathPatch(path, lw=1, **self.edgeprops, zorder=1)\u001b[0m\n\u001b[0m                                                          ^\u001b[0m\n\u001b[0;31mSyntaxError\u001b[0m\u001b[0;31m:\u001b[0m invalid syntax\n"
     ]
    }
   ],
   "source": [
    "\"\"\"\n",
    "Displays a NetworkX barbell graph to screen using a CircosPlot.\n",
    "\"\"\"\n",
    "\n",
    "from nxviz.plots import CircosPlot\n",
    "from random import choice\n",
    "import networkx as nx\n",
    "import matplotlib.pyplot as plt\n",
    "\n",
    "G = nx.barbell_graph(m1=10, m2=3)\n",
    "for n, d in G.nodes(data=True):\n",
    "    G.node[n]['class'] = choice(['one', 'two', 'three'])\n",
    "c = CircosPlot(G, node_color=\"class\", node_order='class')\n",
    "c.draw()\n",
    "plt.show()"
   ]
  },
  {
   "cell_type": "code",
   "execution_count": null,
   "metadata": {
    "collapsed": true
   },
   "outputs": [],
   "source": []
  }
 ],
 "metadata": {
  "kernelspec": {
   "display_name": "Python [Root]",
   "language": "python",
   "name": "Python [Root]"
  },
  "language_info": {
   "codemirror_mode": {
    "name": "ipython",
    "version": 2
   },
   "file_extension": ".py",
   "mimetype": "text/x-python",
   "name": "python",
   "nbconvert_exporter": "python",
   "pygments_lexer": "ipython2",
   "version": "2.7.12"
  }
 },
 "nbformat": 4,
 "nbformat_minor": 0
}
