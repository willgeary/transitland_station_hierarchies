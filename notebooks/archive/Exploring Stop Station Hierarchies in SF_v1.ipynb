{
 "cells": [
  {
   "cell_type": "markdown",
   "metadata": {},
   "source": [
    "# Get stop_stations in Northeast SF from Mapzen API"
   ]
  },
  {
   "cell_type": "markdown",
   "metadata": {},
   "source": [
    "Here is the bounding box we will start with:"
   ]
  },
  {
   "cell_type": "code",
   "execution_count": null,
   "metadata": {
    "collapsed": false
   },
   "outputs": [],
   "source": [
    "import IPython\n",
    "url = 'http://bboxfinder.com/#37.772547,-122.444687,37.811005,-122.380314'\n",
    "iframe = '<iframe src=' + url + ' width=100% height=800></iframe>'\n",
    "IPython.display.HTML(iframe)"
   ]
  },
  {
   "cell_type": "code",
   "execution_count": 1,
   "metadata": {
    "collapsed": true
   },
   "outputs": [],
   "source": [
    "import requests\n",
    "#%matplotlib inline"
   ]
  },
  {
   "cell_type": "code",
   "execution_count": 2,
   "metadata": {
    "collapsed": true
   },
   "outputs": [],
   "source": [
    "mapzen_api_key = \"mapzen-ai1duha\"\n",
    "bbox = \"-122.473526,37.767254,-122.351475,37.816293\" # northeastern SF bbox generated with http://bboxfinder.com/#37.772547,-122.444687,37.811005,-122.380314"
   ]
  },
  {
   "cell_type": "code",
   "execution_count": 3,
   "metadata": {
    "collapsed": false
   },
   "outputs": [],
   "source": [
    "response = requests.get(\"http://transit.land/api/v1/stop_stations?bbox={}&api_key={}&per_page=false&total=true\".format(bbox, mapzen_api_key))\n",
    "data = response.json()"
   ]
  },
  {
   "cell_type": "code",
   "execution_count": 201,
   "metadata": {
    "collapsed": false
   },
   "outputs": [
    {
     "name": "stdout",
     "output_type": "stream",
     "text": [
      "1441 stop_stations in bounding box\n",
      "1441 stop_stations in json response\n"
     ]
    }
   ],
   "source": [
    "print data['meta']['total'], \"stop_stations in bounding box\"\n",
    "print len(data['stop_stations']), \"stop_stations in json response\""
   ]
  },
  {
   "cell_type": "markdown",
   "metadata": {},
   "source": [
    "# Classify each stop_station as either \"simple stop\" or \"station\""
   ]
  },
  {
   "cell_type": "code",
   "execution_count": 5,
   "metadata": {
    "collapsed": false
   },
   "outputs": [],
   "source": [
    "def classify_stop_station_types(json_input):\n",
    "    \n",
    "    # May be easier to add this information into json itself rather than separate array...\n",
    "    stop_station_types_output = []\n",
    "\n",
    "    for stop_station in json_input['stop_stations']:\n",
    "\n",
    "        generated_or_not_generated = []\n",
    "\n",
    "        for stop_egress in stop_station['stop_egresses']:\n",
    "            generated_or_not_generated.append(stop_egress['generated'])\n",
    "\n",
    "        for stop_platform in stop_station['stop_platforms']:\n",
    "            generated_or_not_generated.append(stop_platform['generated'])\n",
    "\n",
    "        # if a particular station has all stop egresses and stop platforms with\n",
    "        # generated = true, then it's just a simple stop. otherwise, its a station\n",
    "        \n",
    "        if all(generated_or_not_generated):\n",
    "            stop_station_types_output.append(\"Simple Stop\")\n",
    "        else:\n",
    "            stop_station_types_output.append(\"Station\")\n",
    "            \n",
    "    return stop_station_types_output"
   ]
  },
  {
   "cell_type": "code",
   "execution_count": 6,
   "metadata": {
    "collapsed": false
   },
   "outputs": [
    {
     "name": "stdout",
     "output_type": "stream",
     "text": [
      "1438 Simple Stops\n",
      "3 Stations\n"
     ]
    }
   ],
   "source": [
    "stop_station_types = classify_stop_station_types(data)\n",
    "\n",
    "print sum((i == \"Simple Stop\") for i in stop_station_types), \"Simple Stops\"\n",
    "print sum((i == \"Station\") for i in stop_station_types), \"Stations\""
   ]
  },
  {
   "cell_type": "markdown",
   "metadata": {},
   "source": [
    "# Parse the json for the data we need to make a map"
   ]
  },
  {
   "cell_type": "code",
   "execution_count": 7,
   "metadata": {
    "collapsed": false
   },
   "outputs": [],
   "source": [
    "def parse_data_for_map(json_input, stop_station_types):\n",
    "    output = []\n",
    "    count = 0\n",
    "    for i in json_input['stop_stations']:\n",
    "        results = {}\n",
    "        results['stop_station_lon'] = i['geometry']['coordinates'][0]\n",
    "        results['stop_station_lat'] = i['geometry']['coordinates'][1]\n",
    "        results['stop_station_name'] = str(i['name']).replace('\"',\"\")\n",
    "        results['operators_serving_stop_and_platforms'] = [str(j['operator_name']) for j in i['operators_serving_stop_and_platforms']]\n",
    "        results['stop_station_type'] = stop_station_types[count]\n",
    "        \n",
    "        # Unpack nested platforms\n",
    "        for stop_platform in i['stop_platforms']:\n",
    "            platform = {}\n",
    "            if stop_platform['generated'] == False:\n",
    "                platform['stop_station_lon'] = stop_platform['geometry']['coordinates'][0]\n",
    "                platform['stop_station_lat'] = stop_platform['geometry']['coordinates'][1]\n",
    "                platform['stop_station_name'] = results['stop_station_name']\n",
    "                platform['operators_serving_stop_and_platforms'] = results['operators_serving_stop_and_platforms']\n",
    "                platform['stop_station_type'] = \"Nested Platform\"\n",
    "                output.append(platform)\n",
    "                \n",
    "        output.append(results)\n",
    "        count += 1\n",
    "    \n",
    "    return output"
   ]
  },
  {
   "cell_type": "code",
   "execution_count": 8,
   "metadata": {
    "collapsed": false
   },
   "outputs": [],
   "source": [
    "data_for_map = parse_data_for_map(data, stop_station_types)"
   ]
  },
  {
   "cell_type": "markdown",
   "metadata": {},
   "source": [
    "# Map stop_stations colored by stop_station type"
   ]
  },
  {
   "cell_type": "code",
   "execution_count": 9,
   "metadata": {
    "collapsed": true
   },
   "outputs": [],
   "source": [
    "import folium"
   ]
  },
  {
   "cell_type": "code",
   "execution_count": 13,
   "metadata": {
    "collapsed": false
   },
   "outputs": [],
   "source": [
    "def make_map(data_for_map, bbox, basemap = 'Mapbox', save_to_html=False):\n",
    "    \n",
    "    # Calculate center location from bbox\n",
    "    bbox_lons = [float(bbox.split(\",\")[0]), float(bbox.split(\",\")[2])]\n",
    "    bbox_lats = [float(bbox.split(\",\")[1]), float(bbox.split(\",\")[3])]\n",
    "    default_lon = sum(bbox_lons) / len(bbox_lons)\n",
    "    default_lat = sum(bbox_lats) / len(bbox_lats)\n",
    "    \n",
    "    if basemap == 'Mapbox':\n",
    "        # Mapbox light basemap\n",
    "        baseurl = 'http://{s}.tiles.mapbox.com/v4/mapbox.light/{z}/{x}/{y}.png'\n",
    "        mapbox_api_key = 'pk.eyJ1Ijoid2lsbGdlYXJ5IiwiYSI6ImNpdW9wcmkxNjAxbDUydXQ0MzFwdmdvOWkifQ.9YIdQhYTOpRpocyFK-tBNA'\n",
    "        token = '?access_token={}'.format(mapbox_api_key)\n",
    "        m = folium.Map(location=[default_lat, default_lon], zoom_start=13, tiles=baseurl+token, attr='Mapbox')\n",
    "\n",
    "    elif basemap == 'OSM':\n",
    "        m = folium.Map(location=[default_lat, default_lon], zoom_start=13)\n",
    "    \n",
    "    # Define circle color scheme\n",
    "    colors = {'Simple Stop': '#3186cc', 'Station': '#ff2500', 'Nested Platform': '#32CD32'}\n",
    "    \n",
    "    for i in data_for_map:\n",
    "\n",
    "        popup_html = folium.Html('<b>Name: </b> {} <br> <b>Operators:</b> {} <br> <b>Type:</b> {}'.format(i['stop_station_name'].replace(\"'\",\"\"), ','.join(i['operators_serving_stop_and_platforms']), i['stop_station_type']), script=True)\n",
    "\n",
    "        popup = folium.Popup(popup_html, max_width=2650)\n",
    "\n",
    "        folium.CircleMarker(location=[i['stop_station_lat'], i['stop_station_lon']], radius=3,\n",
    "                        popup=popup, color=colors[i['stop_station_type']], fill_opacity=0.8,\n",
    "                        fill_color=colors[i['stop_station_type']]).add_to(m)\n",
    "\n",
    "    # Optional save map to html\n",
    "    if save_to_html:\n",
    "        m.save(save_to_html)\n",
    "    else:\n",
    "        return m"
   ]
  },
  {
   "cell_type": "code",
   "execution_count": 14,
   "metadata": {
    "collapsed": false
   },
   "outputs": [],
   "source": [
    "make_map(data_for_map, bbox, basemap='Mapbox', save_to_html=\"maps/map1.html\")"
   ]
  },
  {
   "cell_type": "markdown",
   "metadata": {},
   "source": [
    "# Try a bigger bounding box in SF"
   ]
  },
  {
   "cell_type": "code",
   "execution_count": 15,
   "metadata": {
    "collapsed": false
   },
   "outputs": [],
   "source": [
    "bbox_sf = \"-122.699432,37.665070,-122.211227,37.861302\"\n",
    "response_sf = requests.get(\"http://transit.land/api/v1/stop_stations?bbox={}&api_key={}&per_page=false&total=true\".format(bbox_sf, mapzen_api_key))"
   ]
  },
  {
   "cell_type": "code",
   "execution_count": 16,
   "metadata": {
    "collapsed": false
   },
   "outputs": [
    {
     "name": "stdout",
     "output_type": "stream",
     "text": [
      "5669 stop_stations in bounding box\n",
      "5669 stop_stations in json response\n"
     ]
    }
   ],
   "source": [
    "data_sf = response_sf.json()\n",
    "print data_sf['meta']['total'], \"stop_stations in bounding box\"\n",
    "print len(data_sf['stop_stations']), \"stop_stations in json response\""
   ]
  },
  {
   "cell_type": "code",
   "execution_count": 20,
   "metadata": {
    "collapsed": false
   },
   "outputs": [
    {
     "name": "stdout",
     "output_type": "stream",
     "text": [
      "5649 Simple Stops\n",
      "20 Stations\n"
     ]
    }
   ],
   "source": [
    "stop_station_types_sf = classify_stop_station_types(data_sf)\n",
    "\n",
    "print sum((i == \"Simple Stop\") for i in stop_station_types_sf), \"Simple Stops\"\n",
    "print sum((i == \"Station\") for i in stop_station_types_sf), \"Stations\""
   ]
  },
  {
   "cell_type": "code",
   "execution_count": 18,
   "metadata": {
    "collapsed": true
   },
   "outputs": [],
   "source": [
    "data_for_map_sf = parse_data_for_map(data_sf, stop_station_types_sf)"
   ]
  },
  {
   "cell_type": "code",
   "execution_count": 19,
   "metadata": {
    "collapsed": false
   },
   "outputs": [],
   "source": [
    "make_map(data_for_map_sf, bbox_sf, save_to_html='maps/map2.html')"
   ]
  },
  {
   "cell_type": "markdown",
   "metadata": {
    "collapsed": true
   },
   "source": [
    "# Draw lines from stations to platforms"
   ]
  },
  {
   "cell_type": "code",
   "execution_count": 145,
   "metadata": {
    "collapsed": true
   },
   "outputs": [],
   "source": [
    "def get_points_for_map(json_input, stop_station_types):\n",
    "    output = []\n",
    "    count = 0\n",
    "    for i in json_input['stop_stations']:\n",
    "        results = {}\n",
    "        results['stop_station_lon'] = i['geometry']['coordinates'][0]\n",
    "        results['stop_station_lat'] = i['geometry']['coordinates'][1]\n",
    "        results['stop_station_name'] = str(i['name']).replace('\"',\"\")\n",
    "        results['operators_serving_stop_and_platforms'] = [str(j['operator_name']) for j in i['operators_serving_stop_and_platforms']]\n",
    "        results['stop_station_type'] = stop_station_types[count]\n",
    "        results['number_of_platforms'] = len(i['stop_platforms'])\n",
    "        \n",
    "        # Unpack stop platforms\n",
    "        for stop_platform in i['stop_platforms']:\n",
    "            platform = {}\n",
    "            if stop_platform['generated'] == False:\n",
    "                platform['stop_station_lon'] = stop_platform['geometry']['coordinates'][0]\n",
    "                platform['stop_station_lat'] = stop_platform['geometry']['coordinates'][1]\n",
    "                platform['stop_station_name'] = results['stop_station_name']\n",
    "                platform['operators_serving_stop_and_platforms'] = results['operators_serving_stop_and_platforms']\n",
    "                platform['stop_station_type'] = \"Stop Platform\"\n",
    "                output.append(platform)                \n",
    "                \n",
    "        output.append(results)\n",
    "        count += 1\n",
    "    \n",
    "    return output"
   ]
  },
  {
   "cell_type": "code",
   "execution_count": null,
   "metadata": {
    "collapsed": true
   },
   "outputs": [],
   "source": []
  },
  {
   "cell_type": "code",
   "execution_count": 58,
   "metadata": {
    "collapsed": true
   },
   "outputs": [],
   "source": [
    "def get_lines_for_map(json_input):\n",
    "    lines = []\n",
    "    for stop_station in json_input['stop_stations']:\n",
    "        for stop_platform in stop_station['stop_platforms']:\n",
    "            if stop_platform['generated'] == False:\n",
    "                stop_station_lon = stop_station['geometry']['coordinates'][0]\n",
    "                stop_station_lat = stop_station['geometry']['coordinates'][1]\n",
    "                stop_platform_lon = stop_platform['geometry']['coordinates'][0]\n",
    "                stop_platform_lat = stop_platform['geometry']['coordinates'][1]\n",
    "                line = [(stop_station_lat, stop_station_lon), (stop_platform_lat, stop_platform_lon)]\n",
    "                lines.append(line)\n",
    "                \n",
    "    return lines"
   ]
  },
  {
   "cell_type": "code",
   "execution_count": 74,
   "metadata": {
    "collapsed": false
   },
   "outputs": [],
   "source": [
    "points_for_map_sf = get_points_for_map(data_sf, stop_station_types_sf)\n",
    "lines_for_map_sf = get_lines_for_map(data_sf)"
   ]
  },
  {
   "cell_type": "code",
   "execution_count": 75,
   "metadata": {
    "collapsed": true
   },
   "outputs": [],
   "source": [
    "def make_map_with_lines(points_for_map, lines_for_map, bbox, basemap = 'Mapbox', save_to_html=False):\n",
    "    \n",
    "    # Calculate center location from bbox\n",
    "    bbox_lons = [float(bbox.split(\",\")[0]), float(bbox.split(\",\")[2])]\n",
    "    bbox_lats = [float(bbox.split(\",\")[1]), float(bbox.split(\",\")[3])]\n",
    "    default_lon = sum(bbox_lons) / len(bbox_lons)\n",
    "    default_lat = sum(bbox_lats) / len(bbox_lats)\n",
    "    \n",
    "    if basemap == 'Mapbox':\n",
    "        # Mapbox light basemap\n",
    "        baseurl = 'http://{s}.tiles.mapbox.com/v4/mapbox.light/{z}/{x}/{y}.png'\n",
    "        mapbox_api_key = 'pk.eyJ1Ijoid2lsbGdlYXJ5IiwiYSI6ImNpdW9wcmkxNjAxbDUydXQ0MzFwdmdvOWkifQ.9YIdQhYTOpRpocyFK-tBNA'\n",
    "        token = '?access_token={}'.format(mapbox_api_key)\n",
    "        m = folium.Map(location=[default_lat, default_lon], zoom_start=13, tiles=baseurl+token, attr='Mapbox')\n",
    "\n",
    "    elif basemap == 'OSM':\n",
    "        m = folium.Map(location=[default_lat, default_lon], zoom_start=13)\n",
    "    \n",
    "    # Define circle color scheme\n",
    "    colors = {'Simple Stop': '#3186cc', 'Station': '#ff2500', 'Stop Platform': '#32CD32', 'Line': '#000000'}\n",
    "    \n",
    "    # Draw lines\n",
    "    for i in lines_for_map:\n",
    "        folium.PolyLine(locations=i, color=colors['Line'], weight=2, opacity=1).add_to(m)\n",
    "    \n",
    "    # Draw points\n",
    "    for i in points_for_map:\n",
    "        popup_html = folium.Html('<b>Name: </b> {} <br> <b>Operators:</b> {} <br> <b>Type:</b> {}'.format(i['stop_station_name'].replace(\"'\",\"\"), ','.join(i['operators_serving_stop_and_platforms']), i['stop_station_type']), script=True)\n",
    "        popup = folium.Popup(popup_html, max_width=2650)\n",
    "        folium.CircleMarker(location=[i['stop_station_lat'], i['stop_station_lon']], radius=4,\n",
    "                        popup=popup, color=colors[i['stop_station_type']], fill_opacity=0.8,\n",
    "                        fill_color=colors[i['stop_station_type']]).add_to(m)\n",
    "\n",
    "    # Optional save map to html\n",
    "    if save_to_html:\n",
    "        m.save(save_to_html)\n",
    "    else:\n",
    "        return m"
   ]
  },
  {
   "cell_type": "code",
   "execution_count": 76,
   "metadata": {
    "collapsed": false
   },
   "outputs": [],
   "source": [
    "make_map_with_lines(points_for_map_sf, lines_for_map_sf, bbox_sf, save_to_html=\"maps/map3.html\")"
   ]
  },
  {
   "cell_type": "markdown",
   "metadata": {
    "collapsed": true
   },
   "source": [
    "# Color stop_stations by number of station_platforms"
   ]
  },
  {
   "cell_type": "code",
   "execution_count": 215,
   "metadata": {
    "collapsed": true
   },
   "outputs": [],
   "source": [
    "def get_station_stops_for_map(json_input, stop_station_types):\n",
    "    output = []\n",
    "    count = 0\n",
    "    for i in json_input['stop_stations']:\n",
    "        results = {}\n",
    "        results['stop_station_lon'] = i['geometry']['coordinates'][0]\n",
    "        results['stop_station_lat'] = i['geometry']['coordinates'][1]\n",
    "        results['stop_station_name'] = str(i['name']).replace('\"',\"\")\n",
    "        results['operators_serving_stop_and_platforms'] = [str(j['operator_name']) for j in i['operators_serving_stop_and_platforms']]\n",
    "        \n",
    "        if stop_station_types[count] == 'Station':\n",
    "            if len(i['stop_platforms']) == 0:\n",
    "                results['stop_station_type'] = 'Station w 0 Platforms'\n",
    "            elif len(i['stop_platforms']) == 1:\n",
    "                results['stop_station_type'] = 'Station w 1 Platform'\n",
    "            elif len(i['stop_platforms']) == 2:\n",
    "                results['stop_station_type'] = 'Station w 2 Platforms'\n",
    "            elif len(i['stop_platforms']) > 2:\n",
    "                results['stop_station_type'] = 'Station w >2 Platforms'            \n",
    "        else:        \n",
    "            results['stop_station_type'] = stop_station_types[count]\n",
    "\n",
    "        results['number_of_stop_platforms'] = len(i['stop_platforms'])             \n",
    "                \n",
    "        output.append(results)\n",
    "        count += 1\n",
    "    \n",
    "    return output"
   ]
  },
  {
   "cell_type": "code",
   "execution_count": 216,
   "metadata": {
    "collapsed": true
   },
   "outputs": [],
   "source": [
    "def get_stop_platforms_for_map(json_input):\n",
    "    output = []\n",
    "    for i in json_input['stop_stations']:\n",
    "        for stop_platform in i['stop_platforms']:\n",
    "            platform = {}\n",
    "            if stop_platform['generated'] == False:\n",
    "                platform['parent_station_id'] = i['onestop_id']\n",
    "                platform['parent_station_name'] = i['name']\n",
    "                platform['stop_platform_lon'] = stop_platform['geometry']['coordinates'][0]\n",
    "                platform['stop_platform_lat'] = stop_platform['geometry']['coordinates'][1]\n",
    "                platform['operators_serving_stop_and_platforms'] = i['operators_serving_stop_and_platforms']\n",
    "                platform['stop_station_type'] = \"Stop Platform\"\n",
    "                output.append(platform)                    \n",
    "    return output"
   ]
  },
  {
   "cell_type": "code",
   "execution_count": 217,
   "metadata": {
    "collapsed": true
   },
   "outputs": [],
   "source": [
    "def get_lines_for_map(json_input):\n",
    "    lines = []\n",
    "    for stop_station in json_input['stop_stations']:\n",
    "        for stop_platform in stop_station['stop_platforms']:\n",
    "            if stop_platform['generated'] == False:\n",
    "                stop_station_lon = stop_station['geometry']['coordinates'][0]\n",
    "                stop_station_lat = stop_station['geometry']['coordinates'][1]\n",
    "                stop_platform_lon = stop_platform['geometry']['coordinates'][0]\n",
    "                stop_platform_lat = stop_platform['geometry']['coordinates'][1]\n",
    "                line = [(stop_station_lat, stop_station_lon), (stop_platform_lat, stop_platform_lon)]\n",
    "                lines.append(line)\n",
    "                \n",
    "    return lines"
   ]
  },
  {
   "cell_type": "code",
   "execution_count": 224,
   "metadata": {
    "collapsed": true
   },
   "outputs": [],
   "source": [
    "def make_map(station_stops, stop_platforms, lines, bbox, basemap = 'Mapbox', save_to_html=False):\n",
    "    \n",
    "    # Calculate center location from bbox\n",
    "    bbox_lons = [float(bbox.split(\",\")[0]), float(bbox.split(\",\")[2])]\n",
    "    bbox_lats = [float(bbox.split(\",\")[1]), float(bbox.split(\",\")[3])]\n",
    "    default_lon = sum(bbox_lons) / len(bbox_lons)\n",
    "    default_lat = sum(bbox_lats) / len(bbox_lats)\n",
    "    \n",
    "    # Choose basemap (currently either Mapbox or OSM)\n",
    "    if basemap == 'Mapbox':\n",
    "        baseurl = 'http://{s}.tiles.mapbox.com/v4/mapbox.light/{z}/{x}/{y}.png'\n",
    "        mapbox_api_key = 'pk.eyJ1Ijoid2lsbGdlYXJ5IiwiYSI6ImNpdW9wcmkxNjAxbDUydXQ0MzFwdmdvOWkifQ.9YIdQhYTOpRpocyFK-tBNA'\n",
    "        token = '?access_token={}'.format(mapbox_api_key)\n",
    "        m = folium.Map(location=[default_lat, default_lon], zoom_start=13, tiles=baseurl+token, attr='Mapbox')\n",
    "\n",
    "    elif basemap == 'OSM':\n",
    "        m = folium.Map(location=[default_lat, default_lon], zoom_start=13)\n",
    "    \n",
    "    # Define circle color scheme\n",
    "    colors = {'Simple Stop': '#3186cc', \n",
    "              'Station w 0 Platforms': '#fee5d9',\n",
    "              'Station w 1 Platform': '#fc9272', \n",
    "              'Station w 2 Platforms': '#ef3b2c',\n",
    "              'Station w >2 Platforms': '#99000d', \n",
    "              'Stop Platform': '#32CD32', \n",
    "              'Line': '#000000'}\n",
    "    \n",
    "    # Make radius bigger for stations with more platforms\n",
    "    station_radius = {'Station w 0 Platforms': 3,\n",
    "                      'Station w 1 Platform': 4,\n",
    "                      'Station w 2 Platforms': 5,\n",
    "                      'Station w >2 Platforms': 6,\n",
    "                      'Simple Stop': 3}\n",
    "    # Draw lines\n",
    "    for i in lines:\n",
    "        folium.PolyLine(locations=i, color=colors['Line'], weight=2, opacity=1).add_to(m)\n",
    "        \n",
    "    # Draw stop_platforms\n",
    "    for i in stop_platforms:\n",
    "        popup_html = folium.Html('<b>Name: </b> {} <br> <b>Operators:</b> {} <br> <b>Type:</b> {}'.format(i['parent_station_name'].replace(\"'\",\"\"), i['operators_serving_stop_and_platforms'][0]['operator_name'], i['stop_station_type']), script=True)\n",
    "        popup = folium.Popup(popup_html, max_width=2650)\n",
    "        folium.CircleMarker(location=[i['stop_platform_lat'], i['stop_platform_lon']], radius=4,\n",
    "                       popup=popup, color=colors[i['stop_station_type']], fill_opacity=0.8,\n",
    "                       fill_color=colors[i['stop_station_type']]).add_to(m)\n",
    "        \n",
    "    # Draw station_stops\n",
    "    for i in station_stops:\n",
    "        popup_html = folium.Html('<b>Name: </b> {} <br> <b>Operators:</b> {} <br> <b>Type:</b> {}'.format(i['stop_station_name'].replace(\"'\",\"\"), ','.join(i['operators_serving_stop_and_platforms']), i['stop_station_type']), script=True)\n",
    "        popup = folium.Popup(popup_html, max_width=2650)\n",
    "        folium.CircleMarker(location=[i['stop_station_lat'], i['stop_station_lon']], radius=station_radius[i['stop_station_type']],\n",
    "                        popup=popup, color=colors[i['stop_station_type']], fill_opacity=0.8,\n",
    "                        fill_color=colors[i['stop_station_type']]).add_to(m)\n",
    "\n",
    "    # Optional save map to html\n",
    "    if save_to_html:\n",
    "        m.save(save_to_html)\n",
    "    else:\n",
    "        return m"
   ]
  },
  {
   "cell_type": "code",
   "execution_count": 227,
   "metadata": {
    "collapsed": true
   },
   "outputs": [],
   "source": [
    "station_stops_sf = get_station_stops_for_map(data_sf, stop_station_types_sf)\n",
    "stop_platforms_sf = get_stop_platforms_for_map(data_sf)\n",
    "lines_sf = get_lines_for_map(data_sf)\n",
    "make_map(station_stops_sf, stop_platforms_sf, lines_sf, bbox_sf, save_to_html=\"maps/map4.html\")"
   ]
  },
  {
   "cell_type": "code",
   "execution_count": null,
   "metadata": {
    "collapsed": true
   },
   "outputs": [],
   "source": []
  },
  {
   "cell_type": "code",
   "execution_count": null,
   "metadata": {
    "collapsed": true
   },
   "outputs": [],
   "source": []
  },
  {
   "cell_type": "code",
   "execution_count": null,
   "metadata": {
    "collapsed": true
   },
   "outputs": [],
   "source": []
  },
  {
   "cell_type": "code",
   "execution_count": null,
   "metadata": {
    "collapsed": true
   },
   "outputs": [],
   "source": []
  },
  {
   "cell_type": "code",
   "execution_count": 205,
   "metadata": {
    "collapsed": false
   },
   "outputs": [
    {
     "name": "stdout",
     "output_type": "stream",
     "text": [
      "[{u'operator_onestop_id': u'o-9q9-actransit', u'operator_name': u'Alameda-Contra Costa Transit District'}]\n",
      "[{u'operator_onestop_id': u'o-9q9-actransit', u'operator_name': u'Alameda-Contra Costa Transit District'}]\n",
      "[{u'operator_onestop_id': u'o-9q9-actransit', u'operator_name': u'Alameda-Contra Costa Transit District'}]\n",
      "[{u'operator_onestop_id': u'o-9q9-actransit', u'operator_name': u'Alameda-Contra Costa Transit District'}]\n",
      "[{u'operator_onestop_id': u'o-9q9-actransit', u'operator_name': u'Alameda-Contra Costa Transit District'}]\n",
      "[{u'operator_onestop_id': u'o-9q9-actransit', u'operator_name': u'Alameda-Contra Costa Transit District'}]\n",
      "[{u'operator_onestop_id': u'o-9q9-actransit', u'operator_name': u'Alameda-Contra Costa Transit District'}]\n",
      "[{u'operator_onestop_id': u'o-9q9-actransit', u'operator_name': u'Alameda-Contra Costa Transit District'}]\n",
      "[{u'operator_onestop_id': u'o-9q9-actransit', u'operator_name': u'Alameda-Contra Costa Transit District'}]\n",
      "[{u'operator_onestop_id': u'o-9q9-actransit', u'operator_name': u'Alameda-Contra Costa Transit District'}]\n",
      "[{u'operator_onestop_id': u'o-9q9-actransit', u'operator_name': u'Alameda-Contra Costa Transit District'}]\n",
      "[{u'operator_onestop_id': u'o-9q9-actransit', u'operator_name': u'Alameda-Contra Costa Transit District'}]\n",
      "[{u'operator_onestop_id': u'o-9q9-actransit', u'operator_name': u'Alameda-Contra Costa Transit District'}]\n",
      "[{u'operator_onestop_id': u'o-9q9-actransit', u'operator_name': u'Alameda-Contra Costa Transit District'}]\n",
      "[{u'operator_onestop_id': u'o-9q9-actransit', u'operator_name': u'Alameda-Contra Costa Transit District'}]\n",
      "[{u'operator_onestop_id': u'o-9q9-actransit', u'operator_name': u'Alameda-Contra Costa Transit District'}]\n",
      "[{u'operator_onestop_id': u'o-9q9-actransit', u'operator_name': u'Alameda-Contra Costa Transit District'}]\n",
      "[{u'operator_onestop_id': u'o-9q9-actransit', u'operator_name': u'Alameda-Contra Costa Transit District'}]\n",
      "[{u'operator_onestop_id': u'o-9q9-actransit', u'operator_name': u'Alameda-Contra Costa Transit District'}]\n",
      "[{u'operator_onestop_id': u'o-9q9-actransit', u'operator_name': u'Alameda-Contra Costa Transit District'}]\n",
      "[{u'operator_onestop_id': u'o-9q9-actransit', u'operator_name': u'Alameda-Contra Costa Transit District'}]\n",
      "[{u'operator_onestop_id': u'o-9q9-actransit', u'operator_name': u'Alameda-Contra Costa Transit District'}]\n",
      "[{u'operator_onestop_id': u'o-9q9-actransit', u'operator_name': u'Alameda-Contra Costa Transit District'}]\n",
      "[{u'operator_onestop_id': u'o-9q9-actransit', u'operator_name': u'Alameda-Contra Costa Transit District'}]\n",
      "[{u'operator_onestop_id': u'o-9q9-actransit', u'operator_name': u'Alameda-Contra Costa Transit District'}]\n",
      "[{u'operator_onestop_id': u'o-9q9-actransit', u'operator_name': u'Alameda-Contra Costa Transit District'}]\n",
      "[{u'operator_onestop_id': u'o-9q9-actransit', u'operator_name': u'Alameda-Contra Costa Transit District'}]\n",
      "[{u'operator_onestop_id': u'o-9q9-actransit', u'operator_name': u'Alameda-Contra Costa Transit District'}]\n",
      "[{u'operator_onestop_id': u'o-9q9-actransit', u'operator_name': u'Alameda-Contra Costa Transit District'}]\n",
      "[{u'operator_onestop_id': u'o-9q9-actransit', u'operator_name': u'Alameda-Contra Costa Transit District'}]\n",
      "[{u'operator_onestop_id': u'o-9q9-actransit', u'operator_name': u'Alameda-Contra Costa Transit District'}]\n",
      "[{u'operator_onestop_id': u'o-9q9-actransit', u'operator_name': u'Alameda-Contra Costa Transit District'}]\n",
      "[{u'operator_onestop_id': u'o-9q9-actransit', u'operator_name': u'Alameda-Contra Costa Transit District'}]\n",
      "[{u'operator_onestop_id': u'o-9q9-actransit', u'operator_name': u'Alameda-Contra Costa Transit District'}]\n",
      "[{u'operator_onestop_id': u'o-9q9-actransit', u'operator_name': u'Alameda-Contra Costa Transit District'}]\n",
      "[{u'operator_onestop_id': u'o-9q9-actransit', u'operator_name': u'Alameda-Contra Costa Transit District'}]\n"
     ]
    }
   ],
   "source": [
    "for i in stop_platforms_small:\n",
    "    print i['operators_serving_stop_and_platforms']"
   ]
  },
  {
   "cell_type": "code",
   "execution_count": null,
   "metadata": {
    "collapsed": true
   },
   "outputs": [],
   "source": []
  },
  {
   "cell_type": "code",
   "execution_count": null,
   "metadata": {
    "collapsed": true
   },
   "outputs": [],
   "source": []
  },
  {
   "cell_type": "code",
   "execution_count": null,
   "metadata": {
    "collapsed": true
   },
   "outputs": [],
   "source": []
  },
  {
   "cell_type": "code",
   "execution_count": null,
   "metadata": {
    "collapsed": true
   },
   "outputs": [],
   "source": []
  },
  {
   "cell_type": "markdown",
   "metadata": {
    "collapsed": true
   },
   "source": [
    "# Some random notes..."
   ]
  },
  {
   "cell_type": "code",
   "execution_count": null,
   "metadata": {
    "collapsed": false
   },
   "outputs": [],
   "source": [
    "# Had some trouble with HTML labels and single vs. double quotes:\n",
    "data_for_map[48:49][0]['stop_station_name'] # This caused a problem so I eliminated all single quotes from station stop names"
   ]
  },
  {
   "cell_type": "code",
   "execution_count": null,
   "metadata": {
    "collapsed": false
   },
   "outputs": [],
   "source": [
    "data_for_map[47:48][0]['stop_station_name']"
   ]
  },
  {
   "cell_type": "code",
   "execution_count": null,
   "metadata": {
    "collapsed": false
   },
   "outputs": [],
   "source": [
    "data_for_map[49:50]"
   ]
  },
  {
   "cell_type": "code",
   "execution_count": null,
   "metadata": {
    "collapsed": true
   },
   "outputs": [],
   "source": [
    "# smaller dataset for testing\n",
    "station_stops_small = get_station_stops_for_map(data_small, stop_station_types_small)\n",
    "stop_platforms_small = get_stop_platforms_for_map(data_small)\n",
    "lines_small = get_lines_for_map(data_small)\n",
    "make_map(station_stops_small, stop_platforms_small, lines_small, bbox_sf)"
   ]
  }
 ],
 "metadata": {
  "anaconda-cloud": {},
  "kernelspec": {
   "display_name": "Python [Root]",
   "language": "python",
   "name": "Python [Root]"
  },
  "language_info": {
   "codemirror_mode": {
    "name": "ipython",
    "version": 2
   },
   "file_extension": ".py",
   "mimetype": "text/x-python",
   "name": "python",
   "nbconvert_exporter": "python",
   "pygments_lexer": "ipython2",
   "version": "2.7.12"
  }
 },
 "nbformat": 4,
 "nbformat_minor": 0
}
